{
  "nbformat": 4,
  "nbformat_minor": 0,
  "metadata": {
    "colab": {
      "name": "중간발표-통합본-김우정.ipynb",
      "provenance": [],
      "collapsed_sections": []
    },
    "kernelspec": {
      "name": "python3",
      "display_name": "Python 3"
    },
    "language_info": {
      "name": "python"
    }
  },
  "cells": [
    {
      "cell_type": "code",
      "execution_count": 2,
      "metadata": {
        "colab": {
          "base_uri": "https://localhost:8080/"
        },
        "id": "zCnhFS-UlXWi",
        "outputId": "205cc34b-b8bf-4962-cd99-e4b5e3b36928"
      },
      "outputs": [
        {
          "output_type": "stream",
          "name": "stdout",
          "text": [
            "Mounted at /content/drive\n"
          ]
        }
      ],
      "source": [
        "from google.colab import drive\n",
        "drive.mount('/content/drive')"
      ]
    },
    {
      "cell_type": "code",
      "source": [
        "import pandas as pd\n",
        "import numpy as np"
      ],
      "metadata": {
        "id": "rAMtneRDlxfk"
      },
      "execution_count": 3,
      "outputs": []
    },
    {
      "cell_type": "code",
      "source": [
        "galton_data = pd.read_csv(\"/content/drive/MyDrive/데베응용-오성팀/코랩 노트북/data/Galtons_Height_Data_898.csv\")\n",
        "korean_data0 = pd.read_csv(\"/content/drive/MyDrive/데베응용-오성팀/코랩 노트북/data/oseung.csv\") # 오성\n",
        "korean_data1 = pd.read_csv(\"/content/drive/MyDrive/데베응용-오성팀/코랩 노트북/data/team6.csv\") # 6조\n",
        "korean_data2 = pd.read_csv(\"/content/drive/MyDrive/데베응용-오성팀/코랩 노트북/data/team5.csv\") # 가능충\n",
        "korean_data3 = pd.read_csv(\"/content/drive/MyDrive/데베응용-오성팀/코랩 노트북/data/team4.csv\") # 설명가능\n",
        "korean_data4 = pd.read_csv(\"/content/drive/MyDrive/데베응용-오성팀/코랩 노트북/data/team3.csv\") # 설명불가능\n",
        "korean_data5 = pd.read_csv(\"/content/drive/MyDrive/데베응용-오성팀/코랩 노트북/data/team7.csv\") # 도마구찌\n",
        "korean_data6 = pd.read_csv(\"/content/drive/MyDrive/데베응용-오성팀/코랩 노트북/data/team8.csv\") # 불사조\n",
        "korean_data7 = pd.read_csv(\"/content/drive/MyDrive/데베응용-오성팀/코랩 노트북/data/team9.csv\") # 슬로우스타터\n",
        "korean_data8 = pd.read_csv(\"/content/drive/MyDrive/데베응용-오성팀/코랩 노트북/data/team10.csv\") # AI-KEY"
      ],
      "metadata": {
        "id": "aCwrmY7Ul4Vg"
      },
      "execution_count": 4,
      "outputs": []
    },
    {
      "cell_type": "markdown",
      "source": [
        "## Korean data들 탐색  \n",
        "data들마다 column들이 달라 일부는 csv 열고 수동으로 column 이름 바꿔줬음."
      ],
      "metadata": {
        "id": "4QvpuZLe9vGP"
      }
    },
    {
      "cell_type": "code",
      "source": [
        "korean_data = pd.concat([korean_data0, korean_data1, korean_data2, korean_data3, korean_data4, korean_data5, korean_data6, korean_data7, korean_data8], ignore_index=True)\n",
        "korean_data.head()"
      ],
      "metadata": {
        "colab": {
          "base_uri": "https://localhost:8080/",
          "height": 206
        },
        "id": "8SRXdbTUNL0Z",
        "outputId": "30dfec1b-4aac-4022-a417-c99172af559c"
      },
      "execution_count": 5,
      "outputs": [
        {
          "output_type": "execute_result",
          "data": {
            "text/plain": [
              "   Family  Father  Mother Gender  Height  Kids  Father(cm)  mother(cm)  \\\n",
              "0       1    69.7    61.0      M    68.1     2       177.0       155.0   \n",
              "1       1    69.7    61.0      M    67.3     2       177.0       155.0   \n",
              "2       2    68.5    63.0      M    68.1     2       174.0       160.0   \n",
              "3       2    68.5    63.0      M    67.7     2       174.0       160.0   \n",
              "4       3    68.5    64.6      M    67.7     1       174.0       164.0   \n",
              "\n",
              "   Height(cm)  Father(inch)  Mother(inch)  Height(inch)  \n",
              "0       173.0           NaN           NaN           NaN  \n",
              "1       171.0           NaN           NaN           NaN  \n",
              "2       173.0           NaN           NaN           NaN  \n",
              "3       172.0           NaN           NaN           NaN  \n",
              "4       172.0           NaN           NaN           NaN  "
            ],
            "text/html": [
              "\n",
              "  <div id=\"df-86662a62-8d27-4028-9575-f0d7aa984580\">\n",
              "    <div class=\"colab-df-container\">\n",
              "      <div>\n",
              "<style scoped>\n",
              "    .dataframe tbody tr th:only-of-type {\n",
              "        vertical-align: middle;\n",
              "    }\n",
              "\n",
              "    .dataframe tbody tr th {\n",
              "        vertical-align: top;\n",
              "    }\n",
              "\n",
              "    .dataframe thead th {\n",
              "        text-align: right;\n",
              "    }\n",
              "</style>\n",
              "<table border=\"1\" class=\"dataframe\">\n",
              "  <thead>\n",
              "    <tr style=\"text-align: right;\">\n",
              "      <th></th>\n",
              "      <th>Family</th>\n",
              "      <th>Father</th>\n",
              "      <th>Mother</th>\n",
              "      <th>Gender</th>\n",
              "      <th>Height</th>\n",
              "      <th>Kids</th>\n",
              "      <th>Father(cm)</th>\n",
              "      <th>mother(cm)</th>\n",
              "      <th>Height(cm)</th>\n",
              "      <th>Father(inch)</th>\n",
              "      <th>Mother(inch)</th>\n",
              "      <th>Height(inch)</th>\n",
              "    </tr>\n",
              "  </thead>\n",
              "  <tbody>\n",
              "    <tr>\n",
              "      <th>0</th>\n",
              "      <td>1</td>\n",
              "      <td>69.7</td>\n",
              "      <td>61.0</td>\n",
              "      <td>M</td>\n",
              "      <td>68.1</td>\n",
              "      <td>2</td>\n",
              "      <td>177.0</td>\n",
              "      <td>155.0</td>\n",
              "      <td>173.0</td>\n",
              "      <td>NaN</td>\n",
              "      <td>NaN</td>\n",
              "      <td>NaN</td>\n",
              "    </tr>\n",
              "    <tr>\n",
              "      <th>1</th>\n",
              "      <td>1</td>\n",
              "      <td>69.7</td>\n",
              "      <td>61.0</td>\n",
              "      <td>M</td>\n",
              "      <td>67.3</td>\n",
              "      <td>2</td>\n",
              "      <td>177.0</td>\n",
              "      <td>155.0</td>\n",
              "      <td>171.0</td>\n",
              "      <td>NaN</td>\n",
              "      <td>NaN</td>\n",
              "      <td>NaN</td>\n",
              "    </tr>\n",
              "    <tr>\n",
              "      <th>2</th>\n",
              "      <td>2</td>\n",
              "      <td>68.5</td>\n",
              "      <td>63.0</td>\n",
              "      <td>M</td>\n",
              "      <td>68.1</td>\n",
              "      <td>2</td>\n",
              "      <td>174.0</td>\n",
              "      <td>160.0</td>\n",
              "      <td>173.0</td>\n",
              "      <td>NaN</td>\n",
              "      <td>NaN</td>\n",
              "      <td>NaN</td>\n",
              "    </tr>\n",
              "    <tr>\n",
              "      <th>3</th>\n",
              "      <td>2</td>\n",
              "      <td>68.5</td>\n",
              "      <td>63.0</td>\n",
              "      <td>M</td>\n",
              "      <td>67.7</td>\n",
              "      <td>2</td>\n",
              "      <td>174.0</td>\n",
              "      <td>160.0</td>\n",
              "      <td>172.0</td>\n",
              "      <td>NaN</td>\n",
              "      <td>NaN</td>\n",
              "      <td>NaN</td>\n",
              "    </tr>\n",
              "    <tr>\n",
              "      <th>4</th>\n",
              "      <td>3</td>\n",
              "      <td>68.5</td>\n",
              "      <td>64.6</td>\n",
              "      <td>M</td>\n",
              "      <td>67.7</td>\n",
              "      <td>1</td>\n",
              "      <td>174.0</td>\n",
              "      <td>164.0</td>\n",
              "      <td>172.0</td>\n",
              "      <td>NaN</td>\n",
              "      <td>NaN</td>\n",
              "      <td>NaN</td>\n",
              "    </tr>\n",
              "  </tbody>\n",
              "</table>\n",
              "</div>\n",
              "      <button class=\"colab-df-convert\" onclick=\"convertToInteractive('df-86662a62-8d27-4028-9575-f0d7aa984580')\"\n",
              "              title=\"Convert this dataframe to an interactive table.\"\n",
              "              style=\"display:none;\">\n",
              "        \n",
              "  <svg xmlns=\"http://www.w3.org/2000/svg\" height=\"24px\"viewBox=\"0 0 24 24\"\n",
              "       width=\"24px\">\n",
              "    <path d=\"M0 0h24v24H0V0z\" fill=\"none\"/>\n",
              "    <path d=\"M18.56 5.44l.94 2.06.94-2.06 2.06-.94-2.06-.94-.94-2.06-.94 2.06-2.06.94zm-11 1L8.5 8.5l.94-2.06 2.06-.94-2.06-.94L8.5 2.5l-.94 2.06-2.06.94zm10 10l.94 2.06.94-2.06 2.06-.94-2.06-.94-.94-2.06-.94 2.06-2.06.94z\"/><path d=\"M17.41 7.96l-1.37-1.37c-.4-.4-.92-.59-1.43-.59-.52 0-1.04.2-1.43.59L10.3 9.45l-7.72 7.72c-.78.78-.78 2.05 0 2.83L4 21.41c.39.39.9.59 1.41.59.51 0 1.02-.2 1.41-.59l7.78-7.78 2.81-2.81c.8-.78.8-2.07 0-2.86zM5.41 20L4 18.59l7.72-7.72 1.47 1.35L5.41 20z\"/>\n",
              "  </svg>\n",
              "      </button>\n",
              "      \n",
              "  <style>\n",
              "    .colab-df-container {\n",
              "      display:flex;\n",
              "      flex-wrap:wrap;\n",
              "      gap: 12px;\n",
              "    }\n",
              "\n",
              "    .colab-df-convert {\n",
              "      background-color: #E8F0FE;\n",
              "      border: none;\n",
              "      border-radius: 50%;\n",
              "      cursor: pointer;\n",
              "      display: none;\n",
              "      fill: #1967D2;\n",
              "      height: 32px;\n",
              "      padding: 0 0 0 0;\n",
              "      width: 32px;\n",
              "    }\n",
              "\n",
              "    .colab-df-convert:hover {\n",
              "      background-color: #E2EBFA;\n",
              "      box-shadow: 0px 1px 2px rgba(60, 64, 67, 0.3), 0px 1px 3px 1px rgba(60, 64, 67, 0.15);\n",
              "      fill: #174EA6;\n",
              "    }\n",
              "\n",
              "    [theme=dark] .colab-df-convert {\n",
              "      background-color: #3B4455;\n",
              "      fill: #D2E3FC;\n",
              "    }\n",
              "\n",
              "    [theme=dark] .colab-df-convert:hover {\n",
              "      background-color: #434B5C;\n",
              "      box-shadow: 0px 1px 3px 1px rgba(0, 0, 0, 0.15);\n",
              "      filter: drop-shadow(0px 1px 2px rgba(0, 0, 0, 0.3));\n",
              "      fill: #FFFFFF;\n",
              "    }\n",
              "  </style>\n",
              "\n",
              "      <script>\n",
              "        const buttonEl =\n",
              "          document.querySelector('#df-86662a62-8d27-4028-9575-f0d7aa984580 button.colab-df-convert');\n",
              "        buttonEl.style.display =\n",
              "          google.colab.kernel.accessAllowed ? 'block' : 'none';\n",
              "\n",
              "        async function convertToInteractive(key) {\n",
              "          const element = document.querySelector('#df-86662a62-8d27-4028-9575-f0d7aa984580');\n",
              "          const dataTable =\n",
              "            await google.colab.kernel.invokeFunction('convertToInteractive',\n",
              "                                                     [key], {});\n",
              "          if (!dataTable) return;\n",
              "\n",
              "          const docLinkHtml = 'Like what you see? Visit the ' +\n",
              "            '<a target=\"_blank\" href=https://colab.research.google.com/notebooks/data_table.ipynb>data table notebook</a>'\n",
              "            + ' to learn more about interactive tables.';\n",
              "          element.innerHTML = '';\n",
              "          dataTable['output_type'] = 'display_data';\n",
              "          await google.colab.output.renderOutput(dataTable, element);\n",
              "          const docLink = document.createElement('div');\n",
              "          docLink.innerHTML = docLinkHtml;\n",
              "          element.appendChild(docLink);\n",
              "        }\n",
              "      </script>\n",
              "    </div>\n",
              "  </div>\n",
              "  "
            ]
          },
          "metadata": {},
          "execution_count": 5
        }
      ]
    },
    {
      "cell_type": "code",
      "source": [
        "korean_data.info()"
      ],
      "metadata": {
        "colab": {
          "base_uri": "https://localhost:8080/"
        },
        "id": "LdAyjDTKEGe6",
        "outputId": "81bdc5d9-1e8a-4ef7-e15c-5f291c22c9de"
      },
      "execution_count": 6,
      "outputs": [
        {
          "output_type": "stream",
          "name": "stdout",
          "text": [
            "<class 'pandas.core.frame.DataFrame'>\n",
            "RangeIndex: 2687 entries, 0 to 2686\n",
            "Data columns (total 12 columns):\n",
            " #   Column        Non-Null Count  Dtype  \n",
            "---  ------        --------------  -----  \n",
            " 0   Family        2687 non-null   int64  \n",
            " 1   Father        1742 non-null   float64\n",
            " 2   Mother        1742 non-null   float64\n",
            " 3   Gender        2687 non-null   object \n",
            " 4   Height        1742 non-null   float64\n",
            " 5   Kids          2687 non-null   int64  \n",
            " 6   Father(cm)    2687 non-null   float64\n",
            " 7   mother(cm)    2687 non-null   float64\n",
            " 8   Height(cm)    2687 non-null   float64\n",
            " 9   Father(inch)  200 non-null    float64\n",
            " 10  Mother(inch)  200 non-null    float64\n",
            " 11  Height(inch)  200 non-null    float64\n",
            "dtypes: float64(9), int64(2), object(1)\n",
            "memory usage: 252.0+ KB\n"
          ]
        }
      ]
    },
    {
      "cell_type": "markdown",
      "source": [
        "### 일부 데이터에 없는 column들(Father, Mother, Height)과 불필요한 column(Family)는 제외시킴. "
      ],
      "metadata": {
        "id": "Zk3h8098_99P"
      }
    },
    {
      "cell_type": "code",
      "source": [
        "korean_data = korean_data.drop(['Family', 'Father', 'Mother', 'Height', 'Father(inch)', 'Mother(inch)', 'Height(inch)'], axis=1)\n",
        "korean_data.info()"
      ],
      "metadata": {
        "colab": {
          "base_uri": "https://localhost:8080/"
        },
        "id": "vmAbb855RMBp",
        "outputId": "716c9b96-fa93-41bd-e2bd-8aff28555b08"
      },
      "execution_count": 7,
      "outputs": [
        {
          "output_type": "stream",
          "name": "stdout",
          "text": [
            "<class 'pandas.core.frame.DataFrame'>\n",
            "RangeIndex: 2687 entries, 0 to 2686\n",
            "Data columns (total 5 columns):\n",
            " #   Column      Non-Null Count  Dtype  \n",
            "---  ------      --------------  -----  \n",
            " 0   Gender      2687 non-null   object \n",
            " 1   Kids        2687 non-null   int64  \n",
            " 2   Father(cm)  2687 non-null   float64\n",
            " 3   mother(cm)  2687 non-null   float64\n",
            " 4   Height(cm)  2687 non-null   float64\n",
            "dtypes: float64(3), int64(1), object(1)\n",
            "memory usage: 105.1+ KB\n"
          ]
        }
      ]
    },
    {
      "cell_type": "code",
      "source": [
        "korean_data.info()"
      ],
      "metadata": {
        "colab": {
          "base_uri": "https://localhost:8080/"
        },
        "id": "FE7OI6jNKm-l",
        "outputId": "345f5afa-30d7-49b2-a8ad-71d1140ecea5"
      },
      "execution_count": 8,
      "outputs": [
        {
          "output_type": "stream",
          "name": "stdout",
          "text": [
            "<class 'pandas.core.frame.DataFrame'>\n",
            "RangeIndex: 2687 entries, 0 to 2686\n",
            "Data columns (total 5 columns):\n",
            " #   Column      Non-Null Count  Dtype  \n",
            "---  ------      --------------  -----  \n",
            " 0   Gender      2687 non-null   object \n",
            " 1   Kids        2687 non-null   int64  \n",
            " 2   Father(cm)  2687 non-null   float64\n",
            " 3   mother(cm)  2687 non-null   float64\n",
            " 4   Height(cm)  2687 non-null   float64\n",
            "dtypes: float64(3), int64(1), object(1)\n",
            "memory usage: 105.1+ KB\n"
          ]
        }
      ]
    },
    {
      "cell_type": "code",
      "source": [
        "korean_data.to_csv(\"/content/drive/MyDrive/데베응용-오성팀/코랩 노트북/data/korean_data.csv\")"
      ],
      "metadata": {
        "id": "aGGWQrzpKqpI"
      },
      "execution_count": 9,
      "outputs": []
    },
    {
      "cell_type": "markdown",
      "source": [
        "### Gender 항목을 M, F 두개의 Column으로 one-hot encoding 적용"
      ],
      "metadata": {
        "id": "-5LKp6LdAiyN"
      }
    },
    {
      "cell_type": "code",
      "source": [
        "gender = pd.get_dummies(korean_data.Gender)\n",
        "korean_data = pd.concat([gender, korean_data], axis=1)\n",
        "korean_data = korean_data.drop(['Gender'], axis=1)\n",
        "korean_data"
      ],
      "metadata": {
        "colab": {
          "base_uri": "https://localhost:8080/",
          "height": 424
        },
        "id": "oMoa75I7QZMM",
        "outputId": "e7e6fd45-5999-4d83-cf72-9a7706f588c0"
      },
      "execution_count": 10,
      "outputs": [
        {
          "output_type": "execute_result",
          "data": {
            "text/plain": [
              "      F  M  Kids  Father(cm)  mother(cm)  Height(cm)\n",
              "0     0  1     2       177.0       155.0       173.0\n",
              "1     0  1     2       177.0       155.0       171.0\n",
              "2     0  1     2       174.0       160.0       173.0\n",
              "3     0  1     2       174.0       160.0       172.0\n",
              "4     0  1     1       174.0       164.0       172.0\n",
              "...  .. ..   ...         ...         ...         ...\n",
              "2682  1  0     2       178.0       163.0       164.5\n",
              "2683  0  1     2       178.0       163.0       180.0\n",
              "2684  0  1     2       180.0       158.0       181.5\n",
              "2685  0  1     2       180.0       158.0       174.0\n",
              "2686  0  1     1       163.5       162.1       177.7\n",
              "\n",
              "[2687 rows x 6 columns]"
            ],
            "text/html": [
              "\n",
              "  <div id=\"df-c64f2a62-961c-49b3-a21d-567acbb861e9\">\n",
              "    <div class=\"colab-df-container\">\n",
              "      <div>\n",
              "<style scoped>\n",
              "    .dataframe tbody tr th:only-of-type {\n",
              "        vertical-align: middle;\n",
              "    }\n",
              "\n",
              "    .dataframe tbody tr th {\n",
              "        vertical-align: top;\n",
              "    }\n",
              "\n",
              "    .dataframe thead th {\n",
              "        text-align: right;\n",
              "    }\n",
              "</style>\n",
              "<table border=\"1\" class=\"dataframe\">\n",
              "  <thead>\n",
              "    <tr style=\"text-align: right;\">\n",
              "      <th></th>\n",
              "      <th>F</th>\n",
              "      <th>M</th>\n",
              "      <th>Kids</th>\n",
              "      <th>Father(cm)</th>\n",
              "      <th>mother(cm)</th>\n",
              "      <th>Height(cm)</th>\n",
              "    </tr>\n",
              "  </thead>\n",
              "  <tbody>\n",
              "    <tr>\n",
              "      <th>0</th>\n",
              "      <td>0</td>\n",
              "      <td>1</td>\n",
              "      <td>2</td>\n",
              "      <td>177.0</td>\n",
              "      <td>155.0</td>\n",
              "      <td>173.0</td>\n",
              "    </tr>\n",
              "    <tr>\n",
              "      <th>1</th>\n",
              "      <td>0</td>\n",
              "      <td>1</td>\n",
              "      <td>2</td>\n",
              "      <td>177.0</td>\n",
              "      <td>155.0</td>\n",
              "      <td>171.0</td>\n",
              "    </tr>\n",
              "    <tr>\n",
              "      <th>2</th>\n",
              "      <td>0</td>\n",
              "      <td>1</td>\n",
              "      <td>2</td>\n",
              "      <td>174.0</td>\n",
              "      <td>160.0</td>\n",
              "      <td>173.0</td>\n",
              "    </tr>\n",
              "    <tr>\n",
              "      <th>3</th>\n",
              "      <td>0</td>\n",
              "      <td>1</td>\n",
              "      <td>2</td>\n",
              "      <td>174.0</td>\n",
              "      <td>160.0</td>\n",
              "      <td>172.0</td>\n",
              "    </tr>\n",
              "    <tr>\n",
              "      <th>4</th>\n",
              "      <td>0</td>\n",
              "      <td>1</td>\n",
              "      <td>1</td>\n",
              "      <td>174.0</td>\n",
              "      <td>164.0</td>\n",
              "      <td>172.0</td>\n",
              "    </tr>\n",
              "    <tr>\n",
              "      <th>...</th>\n",
              "      <td>...</td>\n",
              "      <td>...</td>\n",
              "      <td>...</td>\n",
              "      <td>...</td>\n",
              "      <td>...</td>\n",
              "      <td>...</td>\n",
              "    </tr>\n",
              "    <tr>\n",
              "      <th>2682</th>\n",
              "      <td>1</td>\n",
              "      <td>0</td>\n",
              "      <td>2</td>\n",
              "      <td>178.0</td>\n",
              "      <td>163.0</td>\n",
              "      <td>164.5</td>\n",
              "    </tr>\n",
              "    <tr>\n",
              "      <th>2683</th>\n",
              "      <td>0</td>\n",
              "      <td>1</td>\n",
              "      <td>2</td>\n",
              "      <td>178.0</td>\n",
              "      <td>163.0</td>\n",
              "      <td>180.0</td>\n",
              "    </tr>\n",
              "    <tr>\n",
              "      <th>2684</th>\n",
              "      <td>0</td>\n",
              "      <td>1</td>\n",
              "      <td>2</td>\n",
              "      <td>180.0</td>\n",
              "      <td>158.0</td>\n",
              "      <td>181.5</td>\n",
              "    </tr>\n",
              "    <tr>\n",
              "      <th>2685</th>\n",
              "      <td>0</td>\n",
              "      <td>1</td>\n",
              "      <td>2</td>\n",
              "      <td>180.0</td>\n",
              "      <td>158.0</td>\n",
              "      <td>174.0</td>\n",
              "    </tr>\n",
              "    <tr>\n",
              "      <th>2686</th>\n",
              "      <td>0</td>\n",
              "      <td>1</td>\n",
              "      <td>1</td>\n",
              "      <td>163.5</td>\n",
              "      <td>162.1</td>\n",
              "      <td>177.7</td>\n",
              "    </tr>\n",
              "  </tbody>\n",
              "</table>\n",
              "<p>2687 rows × 6 columns</p>\n",
              "</div>\n",
              "      <button class=\"colab-df-convert\" onclick=\"convertToInteractive('df-c64f2a62-961c-49b3-a21d-567acbb861e9')\"\n",
              "              title=\"Convert this dataframe to an interactive table.\"\n",
              "              style=\"display:none;\">\n",
              "        \n",
              "  <svg xmlns=\"http://www.w3.org/2000/svg\" height=\"24px\"viewBox=\"0 0 24 24\"\n",
              "       width=\"24px\">\n",
              "    <path d=\"M0 0h24v24H0V0z\" fill=\"none\"/>\n",
              "    <path d=\"M18.56 5.44l.94 2.06.94-2.06 2.06-.94-2.06-.94-.94-2.06-.94 2.06-2.06.94zm-11 1L8.5 8.5l.94-2.06 2.06-.94-2.06-.94L8.5 2.5l-.94 2.06-2.06.94zm10 10l.94 2.06.94-2.06 2.06-.94-2.06-.94-.94-2.06-.94 2.06-2.06.94z\"/><path d=\"M17.41 7.96l-1.37-1.37c-.4-.4-.92-.59-1.43-.59-.52 0-1.04.2-1.43.59L10.3 9.45l-7.72 7.72c-.78.78-.78 2.05 0 2.83L4 21.41c.39.39.9.59 1.41.59.51 0 1.02-.2 1.41-.59l7.78-7.78 2.81-2.81c.8-.78.8-2.07 0-2.86zM5.41 20L4 18.59l7.72-7.72 1.47 1.35L5.41 20z\"/>\n",
              "  </svg>\n",
              "      </button>\n",
              "      \n",
              "  <style>\n",
              "    .colab-df-container {\n",
              "      display:flex;\n",
              "      flex-wrap:wrap;\n",
              "      gap: 12px;\n",
              "    }\n",
              "\n",
              "    .colab-df-convert {\n",
              "      background-color: #E8F0FE;\n",
              "      border: none;\n",
              "      border-radius: 50%;\n",
              "      cursor: pointer;\n",
              "      display: none;\n",
              "      fill: #1967D2;\n",
              "      height: 32px;\n",
              "      padding: 0 0 0 0;\n",
              "      width: 32px;\n",
              "    }\n",
              "\n",
              "    .colab-df-convert:hover {\n",
              "      background-color: #E2EBFA;\n",
              "      box-shadow: 0px 1px 2px rgba(60, 64, 67, 0.3), 0px 1px 3px 1px rgba(60, 64, 67, 0.15);\n",
              "      fill: #174EA6;\n",
              "    }\n",
              "\n",
              "    [theme=dark] .colab-df-convert {\n",
              "      background-color: #3B4455;\n",
              "      fill: #D2E3FC;\n",
              "    }\n",
              "\n",
              "    [theme=dark] .colab-df-convert:hover {\n",
              "      background-color: #434B5C;\n",
              "      box-shadow: 0px 1px 3px 1px rgba(0, 0, 0, 0.15);\n",
              "      filter: drop-shadow(0px 1px 2px rgba(0, 0, 0, 0.3));\n",
              "      fill: #FFFFFF;\n",
              "    }\n",
              "  </style>\n",
              "\n",
              "      <script>\n",
              "        const buttonEl =\n",
              "          document.querySelector('#df-c64f2a62-961c-49b3-a21d-567acbb861e9 button.colab-df-convert');\n",
              "        buttonEl.style.display =\n",
              "          google.colab.kernel.accessAllowed ? 'block' : 'none';\n",
              "\n",
              "        async function convertToInteractive(key) {\n",
              "          const element = document.querySelector('#df-c64f2a62-961c-49b3-a21d-567acbb861e9');\n",
              "          const dataTable =\n",
              "            await google.colab.kernel.invokeFunction('convertToInteractive',\n",
              "                                                     [key], {});\n",
              "          if (!dataTable) return;\n",
              "\n",
              "          const docLinkHtml = 'Like what you see? Visit the ' +\n",
              "            '<a target=\"_blank\" href=https://colab.research.google.com/notebooks/data_table.ipynb>data table notebook</a>'\n",
              "            + ' to learn more about interactive tables.';\n",
              "          element.innerHTML = '';\n",
              "          dataTable['output_type'] = 'display_data';\n",
              "          await google.colab.output.renderOutput(dataTable, element);\n",
              "          const docLink = document.createElement('div');\n",
              "          docLink.innerHTML = docLinkHtml;\n",
              "          element.appendChild(docLink);\n",
              "        }\n",
              "      </script>\n",
              "    </div>\n",
              "  </div>\n",
              "  "
            ]
          },
          "metadata": {},
          "execution_count": 10
        }
      ]
    },
    {
      "cell_type": "code",
      "source": [
        "korean_data.to_csv(\"/content/drive/MyDrive/데베응용-오성팀/코랩 노트북/data/korean_data_gender_one_hot_encoding.csv\")\n",
        "korean_data.info()"
      ],
      "metadata": {
        "colab": {
          "base_uri": "https://localhost:8080/"
        },
        "id": "3JHrfG6vK7y0",
        "outputId": "c6b8b1bd-b346-4bd7-a42d-55504dcc32ff"
      },
      "execution_count": 11,
      "outputs": [
        {
          "output_type": "stream",
          "name": "stdout",
          "text": [
            "<class 'pandas.core.frame.DataFrame'>\n",
            "RangeIndex: 2687 entries, 0 to 2686\n",
            "Data columns (total 6 columns):\n",
            " #   Column      Non-Null Count  Dtype  \n",
            "---  ------      --------------  -----  \n",
            " 0   F           2687 non-null   uint8  \n",
            " 1   M           2687 non-null   uint8  \n",
            " 2   Kids        2687 non-null   int64  \n",
            " 3   Father(cm)  2687 non-null   float64\n",
            " 4   mother(cm)  2687 non-null   float64\n",
            " 5   Height(cm)  2687 non-null   float64\n",
            "dtypes: float64(3), int64(1), uint8(2)\n",
            "memory usage: 89.3 KB\n"
          ]
        }
      ]
    },
    {
      "cell_type": "code",
      "source": [
        "korean_data.describe()"
      ],
      "metadata": {
        "colab": {
          "base_uri": "https://localhost:8080/",
          "height": 300
        },
        "id": "vuNix2d2Bpsb",
        "outputId": "523a4c37-baaa-4978-cb4c-b8389b770658"
      },
      "execution_count": 12,
      "outputs": [
        {
          "output_type": "execute_result",
          "data": {
            "text/plain": [
              "                 F            M         Kids  Father(cm)   mother(cm)  \\\n",
              "count  2687.000000  2687.000000  2687.000000  2687.00000  2687.000000   \n",
              "mean      0.529587     0.470413     2.094901   173.75754   160.675750   \n",
              "std       0.499217     0.499217     0.718027     6.14452     5.937762   \n",
              "min       0.000000     0.000000     1.000000   157.00000   141.600000   \n",
              "25%       0.000000     0.000000     2.000000   170.00000   157.000000   \n",
              "50%       1.000000     0.000000     2.000000   173.00000   160.000000   \n",
              "75%       1.000000     1.000000     2.000000   178.00000   164.000000   \n",
              "max       1.000000     1.000000     5.000000   194.00000   187.000000   \n",
              "\n",
              "        Height(cm)  \n",
              "count  2687.000000  \n",
              "mean    168.856617  \n",
              "std       9.072851  \n",
              "min     144.500000  \n",
              "25%     162.000000  \n",
              "50%     168.300000  \n",
              "75%     175.675000  \n",
              "max     202.020000  "
            ],
            "text/html": [
              "\n",
              "  <div id=\"df-4d787f61-5227-403b-a970-4967f040f3ac\">\n",
              "    <div class=\"colab-df-container\">\n",
              "      <div>\n",
              "<style scoped>\n",
              "    .dataframe tbody tr th:only-of-type {\n",
              "        vertical-align: middle;\n",
              "    }\n",
              "\n",
              "    .dataframe tbody tr th {\n",
              "        vertical-align: top;\n",
              "    }\n",
              "\n",
              "    .dataframe thead th {\n",
              "        text-align: right;\n",
              "    }\n",
              "</style>\n",
              "<table border=\"1\" class=\"dataframe\">\n",
              "  <thead>\n",
              "    <tr style=\"text-align: right;\">\n",
              "      <th></th>\n",
              "      <th>F</th>\n",
              "      <th>M</th>\n",
              "      <th>Kids</th>\n",
              "      <th>Father(cm)</th>\n",
              "      <th>mother(cm)</th>\n",
              "      <th>Height(cm)</th>\n",
              "    </tr>\n",
              "  </thead>\n",
              "  <tbody>\n",
              "    <tr>\n",
              "      <th>count</th>\n",
              "      <td>2687.000000</td>\n",
              "      <td>2687.000000</td>\n",
              "      <td>2687.000000</td>\n",
              "      <td>2687.00000</td>\n",
              "      <td>2687.000000</td>\n",
              "      <td>2687.000000</td>\n",
              "    </tr>\n",
              "    <tr>\n",
              "      <th>mean</th>\n",
              "      <td>0.529587</td>\n",
              "      <td>0.470413</td>\n",
              "      <td>2.094901</td>\n",
              "      <td>173.75754</td>\n",
              "      <td>160.675750</td>\n",
              "      <td>168.856617</td>\n",
              "    </tr>\n",
              "    <tr>\n",
              "      <th>std</th>\n",
              "      <td>0.499217</td>\n",
              "      <td>0.499217</td>\n",
              "      <td>0.718027</td>\n",
              "      <td>6.14452</td>\n",
              "      <td>5.937762</td>\n",
              "      <td>9.072851</td>\n",
              "    </tr>\n",
              "    <tr>\n",
              "      <th>min</th>\n",
              "      <td>0.000000</td>\n",
              "      <td>0.000000</td>\n",
              "      <td>1.000000</td>\n",
              "      <td>157.00000</td>\n",
              "      <td>141.600000</td>\n",
              "      <td>144.500000</td>\n",
              "    </tr>\n",
              "    <tr>\n",
              "      <th>25%</th>\n",
              "      <td>0.000000</td>\n",
              "      <td>0.000000</td>\n",
              "      <td>2.000000</td>\n",
              "      <td>170.00000</td>\n",
              "      <td>157.000000</td>\n",
              "      <td>162.000000</td>\n",
              "    </tr>\n",
              "    <tr>\n",
              "      <th>50%</th>\n",
              "      <td>1.000000</td>\n",
              "      <td>0.000000</td>\n",
              "      <td>2.000000</td>\n",
              "      <td>173.00000</td>\n",
              "      <td>160.000000</td>\n",
              "      <td>168.300000</td>\n",
              "    </tr>\n",
              "    <tr>\n",
              "      <th>75%</th>\n",
              "      <td>1.000000</td>\n",
              "      <td>1.000000</td>\n",
              "      <td>2.000000</td>\n",
              "      <td>178.00000</td>\n",
              "      <td>164.000000</td>\n",
              "      <td>175.675000</td>\n",
              "    </tr>\n",
              "    <tr>\n",
              "      <th>max</th>\n",
              "      <td>1.000000</td>\n",
              "      <td>1.000000</td>\n",
              "      <td>5.000000</td>\n",
              "      <td>194.00000</td>\n",
              "      <td>187.000000</td>\n",
              "      <td>202.020000</td>\n",
              "    </tr>\n",
              "  </tbody>\n",
              "</table>\n",
              "</div>\n",
              "      <button class=\"colab-df-convert\" onclick=\"convertToInteractive('df-4d787f61-5227-403b-a970-4967f040f3ac')\"\n",
              "              title=\"Convert this dataframe to an interactive table.\"\n",
              "              style=\"display:none;\">\n",
              "        \n",
              "  <svg xmlns=\"http://www.w3.org/2000/svg\" height=\"24px\"viewBox=\"0 0 24 24\"\n",
              "       width=\"24px\">\n",
              "    <path d=\"M0 0h24v24H0V0z\" fill=\"none\"/>\n",
              "    <path d=\"M18.56 5.44l.94 2.06.94-2.06 2.06-.94-2.06-.94-.94-2.06-.94 2.06-2.06.94zm-11 1L8.5 8.5l.94-2.06 2.06-.94-2.06-.94L8.5 2.5l-.94 2.06-2.06.94zm10 10l.94 2.06.94-2.06 2.06-.94-2.06-.94-.94-2.06-.94 2.06-2.06.94z\"/><path d=\"M17.41 7.96l-1.37-1.37c-.4-.4-.92-.59-1.43-.59-.52 0-1.04.2-1.43.59L10.3 9.45l-7.72 7.72c-.78.78-.78 2.05 0 2.83L4 21.41c.39.39.9.59 1.41.59.51 0 1.02-.2 1.41-.59l7.78-7.78 2.81-2.81c.8-.78.8-2.07 0-2.86zM5.41 20L4 18.59l7.72-7.72 1.47 1.35L5.41 20z\"/>\n",
              "  </svg>\n",
              "      </button>\n",
              "      \n",
              "  <style>\n",
              "    .colab-df-container {\n",
              "      display:flex;\n",
              "      flex-wrap:wrap;\n",
              "      gap: 12px;\n",
              "    }\n",
              "\n",
              "    .colab-df-convert {\n",
              "      background-color: #E8F0FE;\n",
              "      border: none;\n",
              "      border-radius: 50%;\n",
              "      cursor: pointer;\n",
              "      display: none;\n",
              "      fill: #1967D2;\n",
              "      height: 32px;\n",
              "      padding: 0 0 0 0;\n",
              "      width: 32px;\n",
              "    }\n",
              "\n",
              "    .colab-df-convert:hover {\n",
              "      background-color: #E2EBFA;\n",
              "      box-shadow: 0px 1px 2px rgba(60, 64, 67, 0.3), 0px 1px 3px 1px rgba(60, 64, 67, 0.15);\n",
              "      fill: #174EA6;\n",
              "    }\n",
              "\n",
              "    [theme=dark] .colab-df-convert {\n",
              "      background-color: #3B4455;\n",
              "      fill: #D2E3FC;\n",
              "    }\n",
              "\n",
              "    [theme=dark] .colab-df-convert:hover {\n",
              "      background-color: #434B5C;\n",
              "      box-shadow: 0px 1px 3px 1px rgba(0, 0, 0, 0.15);\n",
              "      filter: drop-shadow(0px 1px 2px rgba(0, 0, 0, 0.3));\n",
              "      fill: #FFFFFF;\n",
              "    }\n",
              "  </style>\n",
              "\n",
              "      <script>\n",
              "        const buttonEl =\n",
              "          document.querySelector('#df-4d787f61-5227-403b-a970-4967f040f3ac button.colab-df-convert');\n",
              "        buttonEl.style.display =\n",
              "          google.colab.kernel.accessAllowed ? 'block' : 'none';\n",
              "\n",
              "        async function convertToInteractive(key) {\n",
              "          const element = document.querySelector('#df-4d787f61-5227-403b-a970-4967f040f3ac');\n",
              "          const dataTable =\n",
              "            await google.colab.kernel.invokeFunction('convertToInteractive',\n",
              "                                                     [key], {});\n",
              "          if (!dataTable) return;\n",
              "\n",
              "          const docLinkHtml = 'Like what you see? Visit the ' +\n",
              "            '<a target=\"_blank\" href=https://colab.research.google.com/notebooks/data_table.ipynb>data table notebook</a>'\n",
              "            + ' to learn more about interactive tables.';\n",
              "          element.innerHTML = '';\n",
              "          dataTable['output_type'] = 'display_data';\n",
              "          await google.colab.output.renderOutput(dataTable, element);\n",
              "          const docLink = document.createElement('div');\n",
              "          docLink.innerHTML = docLinkHtml;\n",
              "          element.appendChild(docLink);\n",
              "        }\n",
              "      </script>\n",
              "    </div>\n",
              "  </div>\n",
              "  "
            ]
          },
          "metadata": {},
          "execution_count": 12
        }
      ]
    },
    {
      "cell_type": "code",
      "source": [
        "korean_data[korean_data['F']==1].describe()"
      ],
      "metadata": {
        "colab": {
          "base_uri": "https://localhost:8080/",
          "height": 300
        },
        "id": "xxmf1rQOB2ss",
        "outputId": "fd72a44c-5a51-4018-86fb-30fe35bcb9ec"
      },
      "execution_count": 13,
      "outputs": [
        {
          "output_type": "execute_result",
          "data": {
            "text/plain": [
              "            F       M         Kids   Father(cm)   mother(cm)   Height(cm)\n",
              "count  1423.0  1423.0  1423.000000  1423.000000  1423.000000  1423.000000\n",
              "mean      1.0     0.0     2.084329   173.762944   160.550323   162.639712\n",
              "std       0.0     0.0     0.749064     5.813993     5.595969     5.990988\n",
              "min       1.0     0.0     1.000000   157.000000   141.600000   144.500000\n",
              "25%       1.0     0.0     2.000000   170.000000   157.000000   158.250000\n",
              "50%       1.0     0.0     2.000000   173.000000   160.000000   162.780000\n",
              "75%       1.0     0.0     2.000000   178.000000   164.000000   166.650000\n",
              "max       1.0     0.0     5.000000   194.000000   187.000000   193.000000"
            ],
            "text/html": [
              "\n",
              "  <div id=\"df-6f1800ed-bcdc-4b59-8b72-b8ce65d9348b\">\n",
              "    <div class=\"colab-df-container\">\n",
              "      <div>\n",
              "<style scoped>\n",
              "    .dataframe tbody tr th:only-of-type {\n",
              "        vertical-align: middle;\n",
              "    }\n",
              "\n",
              "    .dataframe tbody tr th {\n",
              "        vertical-align: top;\n",
              "    }\n",
              "\n",
              "    .dataframe thead th {\n",
              "        text-align: right;\n",
              "    }\n",
              "</style>\n",
              "<table border=\"1\" class=\"dataframe\">\n",
              "  <thead>\n",
              "    <tr style=\"text-align: right;\">\n",
              "      <th></th>\n",
              "      <th>F</th>\n",
              "      <th>M</th>\n",
              "      <th>Kids</th>\n",
              "      <th>Father(cm)</th>\n",
              "      <th>mother(cm)</th>\n",
              "      <th>Height(cm)</th>\n",
              "    </tr>\n",
              "  </thead>\n",
              "  <tbody>\n",
              "    <tr>\n",
              "      <th>count</th>\n",
              "      <td>1423.0</td>\n",
              "      <td>1423.0</td>\n",
              "      <td>1423.000000</td>\n",
              "      <td>1423.000000</td>\n",
              "      <td>1423.000000</td>\n",
              "      <td>1423.000000</td>\n",
              "    </tr>\n",
              "    <tr>\n",
              "      <th>mean</th>\n",
              "      <td>1.0</td>\n",
              "      <td>0.0</td>\n",
              "      <td>2.084329</td>\n",
              "      <td>173.762944</td>\n",
              "      <td>160.550323</td>\n",
              "      <td>162.639712</td>\n",
              "    </tr>\n",
              "    <tr>\n",
              "      <th>std</th>\n",
              "      <td>0.0</td>\n",
              "      <td>0.0</td>\n",
              "      <td>0.749064</td>\n",
              "      <td>5.813993</td>\n",
              "      <td>5.595969</td>\n",
              "      <td>5.990988</td>\n",
              "    </tr>\n",
              "    <tr>\n",
              "      <th>min</th>\n",
              "      <td>1.0</td>\n",
              "      <td>0.0</td>\n",
              "      <td>1.000000</td>\n",
              "      <td>157.000000</td>\n",
              "      <td>141.600000</td>\n",
              "      <td>144.500000</td>\n",
              "    </tr>\n",
              "    <tr>\n",
              "      <th>25%</th>\n",
              "      <td>1.0</td>\n",
              "      <td>0.0</td>\n",
              "      <td>2.000000</td>\n",
              "      <td>170.000000</td>\n",
              "      <td>157.000000</td>\n",
              "      <td>158.250000</td>\n",
              "    </tr>\n",
              "    <tr>\n",
              "      <th>50%</th>\n",
              "      <td>1.0</td>\n",
              "      <td>0.0</td>\n",
              "      <td>2.000000</td>\n",
              "      <td>173.000000</td>\n",
              "      <td>160.000000</td>\n",
              "      <td>162.780000</td>\n",
              "    </tr>\n",
              "    <tr>\n",
              "      <th>75%</th>\n",
              "      <td>1.0</td>\n",
              "      <td>0.0</td>\n",
              "      <td>2.000000</td>\n",
              "      <td>178.000000</td>\n",
              "      <td>164.000000</td>\n",
              "      <td>166.650000</td>\n",
              "    </tr>\n",
              "    <tr>\n",
              "      <th>max</th>\n",
              "      <td>1.0</td>\n",
              "      <td>0.0</td>\n",
              "      <td>5.000000</td>\n",
              "      <td>194.000000</td>\n",
              "      <td>187.000000</td>\n",
              "      <td>193.000000</td>\n",
              "    </tr>\n",
              "  </tbody>\n",
              "</table>\n",
              "</div>\n",
              "      <button class=\"colab-df-convert\" onclick=\"convertToInteractive('df-6f1800ed-bcdc-4b59-8b72-b8ce65d9348b')\"\n",
              "              title=\"Convert this dataframe to an interactive table.\"\n",
              "              style=\"display:none;\">\n",
              "        \n",
              "  <svg xmlns=\"http://www.w3.org/2000/svg\" height=\"24px\"viewBox=\"0 0 24 24\"\n",
              "       width=\"24px\">\n",
              "    <path d=\"M0 0h24v24H0V0z\" fill=\"none\"/>\n",
              "    <path d=\"M18.56 5.44l.94 2.06.94-2.06 2.06-.94-2.06-.94-.94-2.06-.94 2.06-2.06.94zm-11 1L8.5 8.5l.94-2.06 2.06-.94-2.06-.94L8.5 2.5l-.94 2.06-2.06.94zm10 10l.94 2.06.94-2.06 2.06-.94-2.06-.94-.94-2.06-.94 2.06-2.06.94z\"/><path d=\"M17.41 7.96l-1.37-1.37c-.4-.4-.92-.59-1.43-.59-.52 0-1.04.2-1.43.59L10.3 9.45l-7.72 7.72c-.78.78-.78 2.05 0 2.83L4 21.41c.39.39.9.59 1.41.59.51 0 1.02-.2 1.41-.59l7.78-7.78 2.81-2.81c.8-.78.8-2.07 0-2.86zM5.41 20L4 18.59l7.72-7.72 1.47 1.35L5.41 20z\"/>\n",
              "  </svg>\n",
              "      </button>\n",
              "      \n",
              "  <style>\n",
              "    .colab-df-container {\n",
              "      display:flex;\n",
              "      flex-wrap:wrap;\n",
              "      gap: 12px;\n",
              "    }\n",
              "\n",
              "    .colab-df-convert {\n",
              "      background-color: #E8F0FE;\n",
              "      border: none;\n",
              "      border-radius: 50%;\n",
              "      cursor: pointer;\n",
              "      display: none;\n",
              "      fill: #1967D2;\n",
              "      height: 32px;\n",
              "      padding: 0 0 0 0;\n",
              "      width: 32px;\n",
              "    }\n",
              "\n",
              "    .colab-df-convert:hover {\n",
              "      background-color: #E2EBFA;\n",
              "      box-shadow: 0px 1px 2px rgba(60, 64, 67, 0.3), 0px 1px 3px 1px rgba(60, 64, 67, 0.15);\n",
              "      fill: #174EA6;\n",
              "    }\n",
              "\n",
              "    [theme=dark] .colab-df-convert {\n",
              "      background-color: #3B4455;\n",
              "      fill: #D2E3FC;\n",
              "    }\n",
              "\n",
              "    [theme=dark] .colab-df-convert:hover {\n",
              "      background-color: #434B5C;\n",
              "      box-shadow: 0px 1px 3px 1px rgba(0, 0, 0, 0.15);\n",
              "      filter: drop-shadow(0px 1px 2px rgba(0, 0, 0, 0.3));\n",
              "      fill: #FFFFFF;\n",
              "    }\n",
              "  </style>\n",
              "\n",
              "      <script>\n",
              "        const buttonEl =\n",
              "          document.querySelector('#df-6f1800ed-bcdc-4b59-8b72-b8ce65d9348b button.colab-df-convert');\n",
              "        buttonEl.style.display =\n",
              "          google.colab.kernel.accessAllowed ? 'block' : 'none';\n",
              "\n",
              "        async function convertToInteractive(key) {\n",
              "          const element = document.querySelector('#df-6f1800ed-bcdc-4b59-8b72-b8ce65d9348b');\n",
              "          const dataTable =\n",
              "            await google.colab.kernel.invokeFunction('convertToInteractive',\n",
              "                                                     [key], {});\n",
              "          if (!dataTable) return;\n",
              "\n",
              "          const docLinkHtml = 'Like what you see? Visit the ' +\n",
              "            '<a target=\"_blank\" href=https://colab.research.google.com/notebooks/data_table.ipynb>data table notebook</a>'\n",
              "            + ' to learn more about interactive tables.';\n",
              "          element.innerHTML = '';\n",
              "          dataTable['output_type'] = 'display_data';\n",
              "          await google.colab.output.renderOutput(dataTable, element);\n",
              "          const docLink = document.createElement('div');\n",
              "          docLink.innerHTML = docLinkHtml;\n",
              "          element.appendChild(docLink);\n",
              "        }\n",
              "      </script>\n",
              "    </div>\n",
              "  </div>\n",
              "  "
            ]
          },
          "metadata": {},
          "execution_count": 13
        }
      ]
    },
    {
      "cell_type": "code",
      "source": [
        "korean_data[korean_data['M']==1].describe()"
      ],
      "metadata": {
        "colab": {
          "base_uri": "https://localhost:8080/",
          "height": 300
        },
        "id": "bFXptFM7CJ_5",
        "outputId": "d5ca40b1-883a-480e-a437-8e85331374f2"
      },
      "execution_count": 14,
      "outputs": [
        {
          "output_type": "execute_result",
          "data": {
            "text/plain": [
              "            F       M         Kids   Father(cm)   mother(cm)   Height(cm)\n",
              "count  1264.0  1264.0  1264.000000  1264.000000  1264.000000  1264.000000\n",
              "mean      0.0     1.0     2.106804   173.751456   160.816954   175.855554\n",
              "std       0.0     0.0     0.681495     6.498858     6.299658     6.486975\n",
              "min       0.0     1.0     1.000000   157.000000   143.000000   150.000000\n",
              "25%       0.0     1.0     2.000000   169.200000   157.300000   172.000000\n",
              "50%       0.0     1.0     2.000000   173.000000   160.200000   175.925000\n",
              "75%       0.0     1.0     2.000000   178.000000   165.000000   180.000000\n",
              "max       0.0     1.0     5.000000   194.000000   183.530000   202.020000"
            ],
            "text/html": [
              "\n",
              "  <div id=\"df-09563da8-ad8b-46f6-8f12-0c417814a73e\">\n",
              "    <div class=\"colab-df-container\">\n",
              "      <div>\n",
              "<style scoped>\n",
              "    .dataframe tbody tr th:only-of-type {\n",
              "        vertical-align: middle;\n",
              "    }\n",
              "\n",
              "    .dataframe tbody tr th {\n",
              "        vertical-align: top;\n",
              "    }\n",
              "\n",
              "    .dataframe thead th {\n",
              "        text-align: right;\n",
              "    }\n",
              "</style>\n",
              "<table border=\"1\" class=\"dataframe\">\n",
              "  <thead>\n",
              "    <tr style=\"text-align: right;\">\n",
              "      <th></th>\n",
              "      <th>F</th>\n",
              "      <th>M</th>\n",
              "      <th>Kids</th>\n",
              "      <th>Father(cm)</th>\n",
              "      <th>mother(cm)</th>\n",
              "      <th>Height(cm)</th>\n",
              "    </tr>\n",
              "  </thead>\n",
              "  <tbody>\n",
              "    <tr>\n",
              "      <th>count</th>\n",
              "      <td>1264.0</td>\n",
              "      <td>1264.0</td>\n",
              "      <td>1264.000000</td>\n",
              "      <td>1264.000000</td>\n",
              "      <td>1264.000000</td>\n",
              "      <td>1264.000000</td>\n",
              "    </tr>\n",
              "    <tr>\n",
              "      <th>mean</th>\n",
              "      <td>0.0</td>\n",
              "      <td>1.0</td>\n",
              "      <td>2.106804</td>\n",
              "      <td>173.751456</td>\n",
              "      <td>160.816954</td>\n",
              "      <td>175.855554</td>\n",
              "    </tr>\n",
              "    <tr>\n",
              "      <th>std</th>\n",
              "      <td>0.0</td>\n",
              "      <td>0.0</td>\n",
              "      <td>0.681495</td>\n",
              "      <td>6.498858</td>\n",
              "      <td>6.299658</td>\n",
              "      <td>6.486975</td>\n",
              "    </tr>\n",
              "    <tr>\n",
              "      <th>min</th>\n",
              "      <td>0.0</td>\n",
              "      <td>1.0</td>\n",
              "      <td>1.000000</td>\n",
              "      <td>157.000000</td>\n",
              "      <td>143.000000</td>\n",
              "      <td>150.000000</td>\n",
              "    </tr>\n",
              "    <tr>\n",
              "      <th>25%</th>\n",
              "      <td>0.0</td>\n",
              "      <td>1.0</td>\n",
              "      <td>2.000000</td>\n",
              "      <td>169.200000</td>\n",
              "      <td>157.300000</td>\n",
              "      <td>172.000000</td>\n",
              "    </tr>\n",
              "    <tr>\n",
              "      <th>50%</th>\n",
              "      <td>0.0</td>\n",
              "      <td>1.0</td>\n",
              "      <td>2.000000</td>\n",
              "      <td>173.000000</td>\n",
              "      <td>160.200000</td>\n",
              "      <td>175.925000</td>\n",
              "    </tr>\n",
              "    <tr>\n",
              "      <th>75%</th>\n",
              "      <td>0.0</td>\n",
              "      <td>1.0</td>\n",
              "      <td>2.000000</td>\n",
              "      <td>178.000000</td>\n",
              "      <td>165.000000</td>\n",
              "      <td>180.000000</td>\n",
              "    </tr>\n",
              "    <tr>\n",
              "      <th>max</th>\n",
              "      <td>0.0</td>\n",
              "      <td>1.0</td>\n",
              "      <td>5.000000</td>\n",
              "      <td>194.000000</td>\n",
              "      <td>183.530000</td>\n",
              "      <td>202.020000</td>\n",
              "    </tr>\n",
              "  </tbody>\n",
              "</table>\n",
              "</div>\n",
              "      <button class=\"colab-df-convert\" onclick=\"convertToInteractive('df-09563da8-ad8b-46f6-8f12-0c417814a73e')\"\n",
              "              title=\"Convert this dataframe to an interactive table.\"\n",
              "              style=\"display:none;\">\n",
              "        \n",
              "  <svg xmlns=\"http://www.w3.org/2000/svg\" height=\"24px\"viewBox=\"0 0 24 24\"\n",
              "       width=\"24px\">\n",
              "    <path d=\"M0 0h24v24H0V0z\" fill=\"none\"/>\n",
              "    <path d=\"M18.56 5.44l.94 2.06.94-2.06 2.06-.94-2.06-.94-.94-2.06-.94 2.06-2.06.94zm-11 1L8.5 8.5l.94-2.06 2.06-.94-2.06-.94L8.5 2.5l-.94 2.06-2.06.94zm10 10l.94 2.06.94-2.06 2.06-.94-2.06-.94-.94-2.06-.94 2.06-2.06.94z\"/><path d=\"M17.41 7.96l-1.37-1.37c-.4-.4-.92-.59-1.43-.59-.52 0-1.04.2-1.43.59L10.3 9.45l-7.72 7.72c-.78.78-.78 2.05 0 2.83L4 21.41c.39.39.9.59 1.41.59.51 0 1.02-.2 1.41-.59l7.78-7.78 2.81-2.81c.8-.78.8-2.07 0-2.86zM5.41 20L4 18.59l7.72-7.72 1.47 1.35L5.41 20z\"/>\n",
              "  </svg>\n",
              "      </button>\n",
              "      \n",
              "  <style>\n",
              "    .colab-df-container {\n",
              "      display:flex;\n",
              "      flex-wrap:wrap;\n",
              "      gap: 12px;\n",
              "    }\n",
              "\n",
              "    .colab-df-convert {\n",
              "      background-color: #E8F0FE;\n",
              "      border: none;\n",
              "      border-radius: 50%;\n",
              "      cursor: pointer;\n",
              "      display: none;\n",
              "      fill: #1967D2;\n",
              "      height: 32px;\n",
              "      padding: 0 0 0 0;\n",
              "      width: 32px;\n",
              "    }\n",
              "\n",
              "    .colab-df-convert:hover {\n",
              "      background-color: #E2EBFA;\n",
              "      box-shadow: 0px 1px 2px rgba(60, 64, 67, 0.3), 0px 1px 3px 1px rgba(60, 64, 67, 0.15);\n",
              "      fill: #174EA6;\n",
              "    }\n",
              "\n",
              "    [theme=dark] .colab-df-convert {\n",
              "      background-color: #3B4455;\n",
              "      fill: #D2E3FC;\n",
              "    }\n",
              "\n",
              "    [theme=dark] .colab-df-convert:hover {\n",
              "      background-color: #434B5C;\n",
              "      box-shadow: 0px 1px 3px 1px rgba(0, 0, 0, 0.15);\n",
              "      filter: drop-shadow(0px 1px 2px rgba(0, 0, 0, 0.3));\n",
              "      fill: #FFFFFF;\n",
              "    }\n",
              "  </style>\n",
              "\n",
              "      <script>\n",
              "        const buttonEl =\n",
              "          document.querySelector('#df-09563da8-ad8b-46f6-8f12-0c417814a73e button.colab-df-convert');\n",
              "        buttonEl.style.display =\n",
              "          google.colab.kernel.accessAllowed ? 'block' : 'none';\n",
              "\n",
              "        async function convertToInteractive(key) {\n",
              "          const element = document.querySelector('#df-09563da8-ad8b-46f6-8f12-0c417814a73e');\n",
              "          const dataTable =\n",
              "            await google.colab.kernel.invokeFunction('convertToInteractive',\n",
              "                                                     [key], {});\n",
              "          if (!dataTable) return;\n",
              "\n",
              "          const docLinkHtml = 'Like what you see? Visit the ' +\n",
              "            '<a target=\"_blank\" href=https://colab.research.google.com/notebooks/data_table.ipynb>data table notebook</a>'\n",
              "            + ' to learn more about interactive tables.';\n",
              "          element.innerHTML = '';\n",
              "          dataTable['output_type'] = 'display_data';\n",
              "          await google.colab.output.renderOutput(dataTable, element);\n",
              "          const docLink = document.createElement('div');\n",
              "          docLink.innerHTML = docLinkHtml;\n",
              "          element.appendChild(docLink);\n",
              "        }\n",
              "      </script>\n",
              "    </div>\n",
              "  </div>\n",
              "  "
            ]
          },
          "metadata": {},
          "execution_count": 14
        }
      ]
    },
    {
      "cell_type": "markdown",
      "source": [
        "## Galton 데이터 탐색"
      ],
      "metadata": {
        "id": "cuTtqcQYBlk9"
      }
    },
    {
      "cell_type": "code",
      "source": [
        "galton_data.head()"
      ],
      "metadata": {
        "colab": {
          "base_uri": "https://localhost:8080/",
          "height": 206
        },
        "id": "XJMvwSozUVgz",
        "outputId": "c6f58f5c-9c46-4eff-a07d-7197fe004953"
      },
      "execution_count": 15,
      "outputs": [
        {
          "output_type": "execute_result",
          "data": {
            "text/plain": [
              "   Family  Father  Mother Gender  Height  Kids  Father(cm)  mother(cm)  \\\n",
              "0       1    78.5    67.0      M    73.2     4      199.39      170.18   \n",
              "1       1    78.5    67.0      F    69.2     4      199.39      170.18   \n",
              "2       1    78.5    67.0      F    69.0     4      199.39      170.18   \n",
              "3       1    78.5    67.0      F    69.0     4      199.39      170.18   \n",
              "4       2    75.5    66.5      M    73.5     4      191.77      168.91   \n",
              "\n",
              "   Height(cm)  \n",
              "0     185.928  \n",
              "1     175.768  \n",
              "2     175.260  \n",
              "3     175.260  \n",
              "4     186.690  "
            ],
            "text/html": [
              "\n",
              "  <div id=\"df-357adc25-bd83-4480-aaf0-52e1ed573120\">\n",
              "    <div class=\"colab-df-container\">\n",
              "      <div>\n",
              "<style scoped>\n",
              "    .dataframe tbody tr th:only-of-type {\n",
              "        vertical-align: middle;\n",
              "    }\n",
              "\n",
              "    .dataframe tbody tr th {\n",
              "        vertical-align: top;\n",
              "    }\n",
              "\n",
              "    .dataframe thead th {\n",
              "        text-align: right;\n",
              "    }\n",
              "</style>\n",
              "<table border=\"1\" class=\"dataframe\">\n",
              "  <thead>\n",
              "    <tr style=\"text-align: right;\">\n",
              "      <th></th>\n",
              "      <th>Family</th>\n",
              "      <th>Father</th>\n",
              "      <th>Mother</th>\n",
              "      <th>Gender</th>\n",
              "      <th>Height</th>\n",
              "      <th>Kids</th>\n",
              "      <th>Father(cm)</th>\n",
              "      <th>mother(cm)</th>\n",
              "      <th>Height(cm)</th>\n",
              "    </tr>\n",
              "  </thead>\n",
              "  <tbody>\n",
              "    <tr>\n",
              "      <th>0</th>\n",
              "      <td>1</td>\n",
              "      <td>78.5</td>\n",
              "      <td>67.0</td>\n",
              "      <td>M</td>\n",
              "      <td>73.2</td>\n",
              "      <td>4</td>\n",
              "      <td>199.39</td>\n",
              "      <td>170.18</td>\n",
              "      <td>185.928</td>\n",
              "    </tr>\n",
              "    <tr>\n",
              "      <th>1</th>\n",
              "      <td>1</td>\n",
              "      <td>78.5</td>\n",
              "      <td>67.0</td>\n",
              "      <td>F</td>\n",
              "      <td>69.2</td>\n",
              "      <td>4</td>\n",
              "      <td>199.39</td>\n",
              "      <td>170.18</td>\n",
              "      <td>175.768</td>\n",
              "    </tr>\n",
              "    <tr>\n",
              "      <th>2</th>\n",
              "      <td>1</td>\n",
              "      <td>78.5</td>\n",
              "      <td>67.0</td>\n",
              "      <td>F</td>\n",
              "      <td>69.0</td>\n",
              "      <td>4</td>\n",
              "      <td>199.39</td>\n",
              "      <td>170.18</td>\n",
              "      <td>175.260</td>\n",
              "    </tr>\n",
              "    <tr>\n",
              "      <th>3</th>\n",
              "      <td>1</td>\n",
              "      <td>78.5</td>\n",
              "      <td>67.0</td>\n",
              "      <td>F</td>\n",
              "      <td>69.0</td>\n",
              "      <td>4</td>\n",
              "      <td>199.39</td>\n",
              "      <td>170.18</td>\n",
              "      <td>175.260</td>\n",
              "    </tr>\n",
              "    <tr>\n",
              "      <th>4</th>\n",
              "      <td>2</td>\n",
              "      <td>75.5</td>\n",
              "      <td>66.5</td>\n",
              "      <td>M</td>\n",
              "      <td>73.5</td>\n",
              "      <td>4</td>\n",
              "      <td>191.77</td>\n",
              "      <td>168.91</td>\n",
              "      <td>186.690</td>\n",
              "    </tr>\n",
              "  </tbody>\n",
              "</table>\n",
              "</div>\n",
              "      <button class=\"colab-df-convert\" onclick=\"convertToInteractive('df-357adc25-bd83-4480-aaf0-52e1ed573120')\"\n",
              "              title=\"Convert this dataframe to an interactive table.\"\n",
              "              style=\"display:none;\">\n",
              "        \n",
              "  <svg xmlns=\"http://www.w3.org/2000/svg\" height=\"24px\"viewBox=\"0 0 24 24\"\n",
              "       width=\"24px\">\n",
              "    <path d=\"M0 0h24v24H0V0z\" fill=\"none\"/>\n",
              "    <path d=\"M18.56 5.44l.94 2.06.94-2.06 2.06-.94-2.06-.94-.94-2.06-.94 2.06-2.06.94zm-11 1L8.5 8.5l.94-2.06 2.06-.94-2.06-.94L8.5 2.5l-.94 2.06-2.06.94zm10 10l.94 2.06.94-2.06 2.06-.94-2.06-.94-.94-2.06-.94 2.06-2.06.94z\"/><path d=\"M17.41 7.96l-1.37-1.37c-.4-.4-.92-.59-1.43-.59-.52 0-1.04.2-1.43.59L10.3 9.45l-7.72 7.72c-.78.78-.78 2.05 0 2.83L4 21.41c.39.39.9.59 1.41.59.51 0 1.02-.2 1.41-.59l7.78-7.78 2.81-2.81c.8-.78.8-2.07 0-2.86zM5.41 20L4 18.59l7.72-7.72 1.47 1.35L5.41 20z\"/>\n",
              "  </svg>\n",
              "      </button>\n",
              "      \n",
              "  <style>\n",
              "    .colab-df-container {\n",
              "      display:flex;\n",
              "      flex-wrap:wrap;\n",
              "      gap: 12px;\n",
              "    }\n",
              "\n",
              "    .colab-df-convert {\n",
              "      background-color: #E8F0FE;\n",
              "      border: none;\n",
              "      border-radius: 50%;\n",
              "      cursor: pointer;\n",
              "      display: none;\n",
              "      fill: #1967D2;\n",
              "      height: 32px;\n",
              "      padding: 0 0 0 0;\n",
              "      width: 32px;\n",
              "    }\n",
              "\n",
              "    .colab-df-convert:hover {\n",
              "      background-color: #E2EBFA;\n",
              "      box-shadow: 0px 1px 2px rgba(60, 64, 67, 0.3), 0px 1px 3px 1px rgba(60, 64, 67, 0.15);\n",
              "      fill: #174EA6;\n",
              "    }\n",
              "\n",
              "    [theme=dark] .colab-df-convert {\n",
              "      background-color: #3B4455;\n",
              "      fill: #D2E3FC;\n",
              "    }\n",
              "\n",
              "    [theme=dark] .colab-df-convert:hover {\n",
              "      background-color: #434B5C;\n",
              "      box-shadow: 0px 1px 3px 1px rgba(0, 0, 0, 0.15);\n",
              "      filter: drop-shadow(0px 1px 2px rgba(0, 0, 0, 0.3));\n",
              "      fill: #FFFFFF;\n",
              "    }\n",
              "  </style>\n",
              "\n",
              "      <script>\n",
              "        const buttonEl =\n",
              "          document.querySelector('#df-357adc25-bd83-4480-aaf0-52e1ed573120 button.colab-df-convert');\n",
              "        buttonEl.style.display =\n",
              "          google.colab.kernel.accessAllowed ? 'block' : 'none';\n",
              "\n",
              "        async function convertToInteractive(key) {\n",
              "          const element = document.querySelector('#df-357adc25-bd83-4480-aaf0-52e1ed573120');\n",
              "          const dataTable =\n",
              "            await google.colab.kernel.invokeFunction('convertToInteractive',\n",
              "                                                     [key], {});\n",
              "          if (!dataTable) return;\n",
              "\n",
              "          const docLinkHtml = 'Like what you see? Visit the ' +\n",
              "            '<a target=\"_blank\" href=https://colab.research.google.com/notebooks/data_table.ipynb>data table notebook</a>'\n",
              "            + ' to learn more about interactive tables.';\n",
              "          element.innerHTML = '';\n",
              "          dataTable['output_type'] = 'display_data';\n",
              "          await google.colab.output.renderOutput(dataTable, element);\n",
              "          const docLink = document.createElement('div');\n",
              "          docLink.innerHTML = docLinkHtml;\n",
              "          element.appendChild(docLink);\n",
              "        }\n",
              "      </script>\n",
              "    </div>\n",
              "  </div>\n",
              "  "
            ]
          },
          "metadata": {},
          "execution_count": 15
        }
      ]
    },
    {
      "cell_type": "code",
      "source": [
        "# 안쓰는 columns 없애고 Gender one-hot encoding\n",
        "galton_data = galton_data.drop(['Family', 'Father', 'Mother', 'Height'], axis=1)\n",
        "gender = pd.get_dummies(galton_data.Gender)\n",
        "galton_data = pd.concat([gender, galton_data], axis=1)\n",
        "galton_data = galton_data.drop(['Gender'], axis=1)\n",
        "galton_data"
      ],
      "metadata": {
        "colab": {
          "base_uri": "https://localhost:8080/",
          "height": 424
        },
        "id": "X2wc_McSLNCU",
        "outputId": "f11e4b2e-8b9f-410d-d5c2-11d6d73bddad"
      },
      "execution_count": 16,
      "outputs": [
        {
          "output_type": "execute_result",
          "data": {
            "text/plain": [
              "     F  M  Kids  Father(cm)  mother(cm)  Height(cm)\n",
              "0    0  1     4      199.39      170.18     185.928\n",
              "1    1  0     4      199.39      170.18     175.768\n",
              "2    1  0     4      199.39      170.18     175.260\n",
              "3    1  0     4      199.39      170.18     175.260\n",
              "4    0  1     4      191.77      168.91     186.690\n",
              "..  .. ..   ...         ...         ...         ...\n",
              "893  0  1     8      173.99      165.10     173.990\n",
              "894  0  1     8      173.99      165.10     171.958\n",
              "895  1  0     8      173.99      165.10     162.560\n",
              "896  1  0     8      173.99      165.10     161.290\n",
              "897  1  0     8      173.99      165.10     160.020\n",
              "\n",
              "[898 rows x 6 columns]"
            ],
            "text/html": [
              "\n",
              "  <div id=\"df-5d0813ef-cfdd-4524-b7b8-5a6edbd8188e\">\n",
              "    <div class=\"colab-df-container\">\n",
              "      <div>\n",
              "<style scoped>\n",
              "    .dataframe tbody tr th:only-of-type {\n",
              "        vertical-align: middle;\n",
              "    }\n",
              "\n",
              "    .dataframe tbody tr th {\n",
              "        vertical-align: top;\n",
              "    }\n",
              "\n",
              "    .dataframe thead th {\n",
              "        text-align: right;\n",
              "    }\n",
              "</style>\n",
              "<table border=\"1\" class=\"dataframe\">\n",
              "  <thead>\n",
              "    <tr style=\"text-align: right;\">\n",
              "      <th></th>\n",
              "      <th>F</th>\n",
              "      <th>M</th>\n",
              "      <th>Kids</th>\n",
              "      <th>Father(cm)</th>\n",
              "      <th>mother(cm)</th>\n",
              "      <th>Height(cm)</th>\n",
              "    </tr>\n",
              "  </thead>\n",
              "  <tbody>\n",
              "    <tr>\n",
              "      <th>0</th>\n",
              "      <td>0</td>\n",
              "      <td>1</td>\n",
              "      <td>4</td>\n",
              "      <td>199.39</td>\n",
              "      <td>170.18</td>\n",
              "      <td>185.928</td>\n",
              "    </tr>\n",
              "    <tr>\n",
              "      <th>1</th>\n",
              "      <td>1</td>\n",
              "      <td>0</td>\n",
              "      <td>4</td>\n",
              "      <td>199.39</td>\n",
              "      <td>170.18</td>\n",
              "      <td>175.768</td>\n",
              "    </tr>\n",
              "    <tr>\n",
              "      <th>2</th>\n",
              "      <td>1</td>\n",
              "      <td>0</td>\n",
              "      <td>4</td>\n",
              "      <td>199.39</td>\n",
              "      <td>170.18</td>\n",
              "      <td>175.260</td>\n",
              "    </tr>\n",
              "    <tr>\n",
              "      <th>3</th>\n",
              "      <td>1</td>\n",
              "      <td>0</td>\n",
              "      <td>4</td>\n",
              "      <td>199.39</td>\n",
              "      <td>170.18</td>\n",
              "      <td>175.260</td>\n",
              "    </tr>\n",
              "    <tr>\n",
              "      <th>4</th>\n",
              "      <td>0</td>\n",
              "      <td>1</td>\n",
              "      <td>4</td>\n",
              "      <td>191.77</td>\n",
              "      <td>168.91</td>\n",
              "      <td>186.690</td>\n",
              "    </tr>\n",
              "    <tr>\n",
              "      <th>...</th>\n",
              "      <td>...</td>\n",
              "      <td>...</td>\n",
              "      <td>...</td>\n",
              "      <td>...</td>\n",
              "      <td>...</td>\n",
              "      <td>...</td>\n",
              "    </tr>\n",
              "    <tr>\n",
              "      <th>893</th>\n",
              "      <td>0</td>\n",
              "      <td>1</td>\n",
              "      <td>8</td>\n",
              "      <td>173.99</td>\n",
              "      <td>165.10</td>\n",
              "      <td>173.990</td>\n",
              "    </tr>\n",
              "    <tr>\n",
              "      <th>894</th>\n",
              "      <td>0</td>\n",
              "      <td>1</td>\n",
              "      <td>8</td>\n",
              "      <td>173.99</td>\n",
              "      <td>165.10</td>\n",
              "      <td>171.958</td>\n",
              "    </tr>\n",
              "    <tr>\n",
              "      <th>895</th>\n",
              "      <td>1</td>\n",
              "      <td>0</td>\n",
              "      <td>8</td>\n",
              "      <td>173.99</td>\n",
              "      <td>165.10</td>\n",
              "      <td>162.560</td>\n",
              "    </tr>\n",
              "    <tr>\n",
              "      <th>896</th>\n",
              "      <td>1</td>\n",
              "      <td>0</td>\n",
              "      <td>8</td>\n",
              "      <td>173.99</td>\n",
              "      <td>165.10</td>\n",
              "      <td>161.290</td>\n",
              "    </tr>\n",
              "    <tr>\n",
              "      <th>897</th>\n",
              "      <td>1</td>\n",
              "      <td>0</td>\n",
              "      <td>8</td>\n",
              "      <td>173.99</td>\n",
              "      <td>165.10</td>\n",
              "      <td>160.020</td>\n",
              "    </tr>\n",
              "  </tbody>\n",
              "</table>\n",
              "<p>898 rows × 6 columns</p>\n",
              "</div>\n",
              "      <button class=\"colab-df-convert\" onclick=\"convertToInteractive('df-5d0813ef-cfdd-4524-b7b8-5a6edbd8188e')\"\n",
              "              title=\"Convert this dataframe to an interactive table.\"\n",
              "              style=\"display:none;\">\n",
              "        \n",
              "  <svg xmlns=\"http://www.w3.org/2000/svg\" height=\"24px\"viewBox=\"0 0 24 24\"\n",
              "       width=\"24px\">\n",
              "    <path d=\"M0 0h24v24H0V0z\" fill=\"none\"/>\n",
              "    <path d=\"M18.56 5.44l.94 2.06.94-2.06 2.06-.94-2.06-.94-.94-2.06-.94 2.06-2.06.94zm-11 1L8.5 8.5l.94-2.06 2.06-.94-2.06-.94L8.5 2.5l-.94 2.06-2.06.94zm10 10l.94 2.06.94-2.06 2.06-.94-2.06-.94-.94-2.06-.94 2.06-2.06.94z\"/><path d=\"M17.41 7.96l-1.37-1.37c-.4-.4-.92-.59-1.43-.59-.52 0-1.04.2-1.43.59L10.3 9.45l-7.72 7.72c-.78.78-.78 2.05 0 2.83L4 21.41c.39.39.9.59 1.41.59.51 0 1.02-.2 1.41-.59l7.78-7.78 2.81-2.81c.8-.78.8-2.07 0-2.86zM5.41 20L4 18.59l7.72-7.72 1.47 1.35L5.41 20z\"/>\n",
              "  </svg>\n",
              "      </button>\n",
              "      \n",
              "  <style>\n",
              "    .colab-df-container {\n",
              "      display:flex;\n",
              "      flex-wrap:wrap;\n",
              "      gap: 12px;\n",
              "    }\n",
              "\n",
              "    .colab-df-convert {\n",
              "      background-color: #E8F0FE;\n",
              "      border: none;\n",
              "      border-radius: 50%;\n",
              "      cursor: pointer;\n",
              "      display: none;\n",
              "      fill: #1967D2;\n",
              "      height: 32px;\n",
              "      padding: 0 0 0 0;\n",
              "      width: 32px;\n",
              "    }\n",
              "\n",
              "    .colab-df-convert:hover {\n",
              "      background-color: #E2EBFA;\n",
              "      box-shadow: 0px 1px 2px rgba(60, 64, 67, 0.3), 0px 1px 3px 1px rgba(60, 64, 67, 0.15);\n",
              "      fill: #174EA6;\n",
              "    }\n",
              "\n",
              "    [theme=dark] .colab-df-convert {\n",
              "      background-color: #3B4455;\n",
              "      fill: #D2E3FC;\n",
              "    }\n",
              "\n",
              "    [theme=dark] .colab-df-convert:hover {\n",
              "      background-color: #434B5C;\n",
              "      box-shadow: 0px 1px 3px 1px rgba(0, 0, 0, 0.15);\n",
              "      filter: drop-shadow(0px 1px 2px rgba(0, 0, 0, 0.3));\n",
              "      fill: #FFFFFF;\n",
              "    }\n",
              "  </style>\n",
              "\n",
              "      <script>\n",
              "        const buttonEl =\n",
              "          document.querySelector('#df-5d0813ef-cfdd-4524-b7b8-5a6edbd8188e button.colab-df-convert');\n",
              "        buttonEl.style.display =\n",
              "          google.colab.kernel.accessAllowed ? 'block' : 'none';\n",
              "\n",
              "        async function convertToInteractive(key) {\n",
              "          const element = document.querySelector('#df-5d0813ef-cfdd-4524-b7b8-5a6edbd8188e');\n",
              "          const dataTable =\n",
              "            await google.colab.kernel.invokeFunction('convertToInteractive',\n",
              "                                                     [key], {});\n",
              "          if (!dataTable) return;\n",
              "\n",
              "          const docLinkHtml = 'Like what you see? Visit the ' +\n",
              "            '<a target=\"_blank\" href=https://colab.research.google.com/notebooks/data_table.ipynb>data table notebook</a>'\n",
              "            + ' to learn more about interactive tables.';\n",
              "          element.innerHTML = '';\n",
              "          dataTable['output_type'] = 'display_data';\n",
              "          await google.colab.output.renderOutput(dataTable, element);\n",
              "          const docLink = document.createElement('div');\n",
              "          docLink.innerHTML = docLinkHtml;\n",
              "          element.appendChild(docLink);\n",
              "        }\n",
              "      </script>\n",
              "    </div>\n",
              "  </div>\n",
              "  "
            ]
          },
          "metadata": {},
          "execution_count": 16
        }
      ]
    },
    {
      "cell_type": "code",
      "source": [
        "galton_data.info()"
      ],
      "metadata": {
        "colab": {
          "base_uri": "https://localhost:8080/"
        },
        "id": "dbf4kXHD86Hx",
        "outputId": "217b4ca6-087d-4c26-8f0c-70837a0a14b5"
      },
      "execution_count": 17,
      "outputs": [
        {
          "output_type": "stream",
          "name": "stdout",
          "text": [
            "<class 'pandas.core.frame.DataFrame'>\n",
            "RangeIndex: 898 entries, 0 to 897\n",
            "Data columns (total 6 columns):\n",
            " #   Column      Non-Null Count  Dtype  \n",
            "---  ------      --------------  -----  \n",
            " 0   F           898 non-null    uint8  \n",
            " 1   M           898 non-null    uint8  \n",
            " 2   Kids        898 non-null    int64  \n",
            " 3   Father(cm)  898 non-null    float64\n",
            " 4   mother(cm)  898 non-null    float64\n",
            " 5   Height(cm)  898 non-null    float64\n",
            "dtypes: float64(3), int64(1), uint8(2)\n",
            "memory usage: 29.9 KB\n"
          ]
        }
      ]
    },
    {
      "cell_type": "code",
      "source": [
        "galton_data.describe()"
      ],
      "metadata": {
        "colab": {
          "base_uri": "https://localhost:8080/",
          "height": 300
        },
        "id": "t9ZAeDSVViCG",
        "outputId": "6b6d222a-dc5c-41d9-ea35-30218b34f5e4"
      },
      "execution_count": 18,
      "outputs": [
        {
          "output_type": "execute_result",
          "data": {
            "text/plain": [
              "                F           M        Kids  Father(cm)  mother(cm)  Height(cm)\n",
              "count  898.000000  898.000000  898.000000  898.000000  898.000000  898.000000\n",
              "mean     0.482183    0.517817    6.135857  175.851441  162.774401  169.572154\n",
              "std      0.499961    0.499961    2.685156    6.274450    5.859844    9.100613\n",
              "min      0.000000    0.000000    1.000000  157.480000  147.320000  142.240000\n",
              "25%      0.000000    0.000000    4.000000  172.720000  160.020000  162.560000\n",
              "50%      0.000000    1.000000    6.000000  175.260000  162.560000  168.910000\n",
              "75%      1.000000    1.000000    8.000000  180.340000  166.370000  177.038000\n",
              "max      1.000000    1.000000   15.000000  199.390000  179.070000  200.660000"
            ],
            "text/html": [
              "\n",
              "  <div id=\"df-1f89bdbc-7162-4c74-965c-304ddcae1608\">\n",
              "    <div class=\"colab-df-container\">\n",
              "      <div>\n",
              "<style scoped>\n",
              "    .dataframe tbody tr th:only-of-type {\n",
              "        vertical-align: middle;\n",
              "    }\n",
              "\n",
              "    .dataframe tbody tr th {\n",
              "        vertical-align: top;\n",
              "    }\n",
              "\n",
              "    .dataframe thead th {\n",
              "        text-align: right;\n",
              "    }\n",
              "</style>\n",
              "<table border=\"1\" class=\"dataframe\">\n",
              "  <thead>\n",
              "    <tr style=\"text-align: right;\">\n",
              "      <th></th>\n",
              "      <th>F</th>\n",
              "      <th>M</th>\n",
              "      <th>Kids</th>\n",
              "      <th>Father(cm)</th>\n",
              "      <th>mother(cm)</th>\n",
              "      <th>Height(cm)</th>\n",
              "    </tr>\n",
              "  </thead>\n",
              "  <tbody>\n",
              "    <tr>\n",
              "      <th>count</th>\n",
              "      <td>898.000000</td>\n",
              "      <td>898.000000</td>\n",
              "      <td>898.000000</td>\n",
              "      <td>898.000000</td>\n",
              "      <td>898.000000</td>\n",
              "      <td>898.000000</td>\n",
              "    </tr>\n",
              "    <tr>\n",
              "      <th>mean</th>\n",
              "      <td>0.482183</td>\n",
              "      <td>0.517817</td>\n",
              "      <td>6.135857</td>\n",
              "      <td>175.851441</td>\n",
              "      <td>162.774401</td>\n",
              "      <td>169.572154</td>\n",
              "    </tr>\n",
              "    <tr>\n",
              "      <th>std</th>\n",
              "      <td>0.499961</td>\n",
              "      <td>0.499961</td>\n",
              "      <td>2.685156</td>\n",
              "      <td>6.274450</td>\n",
              "      <td>5.859844</td>\n",
              "      <td>9.100613</td>\n",
              "    </tr>\n",
              "    <tr>\n",
              "      <th>min</th>\n",
              "      <td>0.000000</td>\n",
              "      <td>0.000000</td>\n",
              "      <td>1.000000</td>\n",
              "      <td>157.480000</td>\n",
              "      <td>147.320000</td>\n",
              "      <td>142.240000</td>\n",
              "    </tr>\n",
              "    <tr>\n",
              "      <th>25%</th>\n",
              "      <td>0.000000</td>\n",
              "      <td>0.000000</td>\n",
              "      <td>4.000000</td>\n",
              "      <td>172.720000</td>\n",
              "      <td>160.020000</td>\n",
              "      <td>162.560000</td>\n",
              "    </tr>\n",
              "    <tr>\n",
              "      <th>50%</th>\n",
              "      <td>0.000000</td>\n",
              "      <td>1.000000</td>\n",
              "      <td>6.000000</td>\n",
              "      <td>175.260000</td>\n",
              "      <td>162.560000</td>\n",
              "      <td>168.910000</td>\n",
              "    </tr>\n",
              "    <tr>\n",
              "      <th>75%</th>\n",
              "      <td>1.000000</td>\n",
              "      <td>1.000000</td>\n",
              "      <td>8.000000</td>\n",
              "      <td>180.340000</td>\n",
              "      <td>166.370000</td>\n",
              "      <td>177.038000</td>\n",
              "    </tr>\n",
              "    <tr>\n",
              "      <th>max</th>\n",
              "      <td>1.000000</td>\n",
              "      <td>1.000000</td>\n",
              "      <td>15.000000</td>\n",
              "      <td>199.390000</td>\n",
              "      <td>179.070000</td>\n",
              "      <td>200.660000</td>\n",
              "    </tr>\n",
              "  </tbody>\n",
              "</table>\n",
              "</div>\n",
              "      <button class=\"colab-df-convert\" onclick=\"convertToInteractive('df-1f89bdbc-7162-4c74-965c-304ddcae1608')\"\n",
              "              title=\"Convert this dataframe to an interactive table.\"\n",
              "              style=\"display:none;\">\n",
              "        \n",
              "  <svg xmlns=\"http://www.w3.org/2000/svg\" height=\"24px\"viewBox=\"0 0 24 24\"\n",
              "       width=\"24px\">\n",
              "    <path d=\"M0 0h24v24H0V0z\" fill=\"none\"/>\n",
              "    <path d=\"M18.56 5.44l.94 2.06.94-2.06 2.06-.94-2.06-.94-.94-2.06-.94 2.06-2.06.94zm-11 1L8.5 8.5l.94-2.06 2.06-.94-2.06-.94L8.5 2.5l-.94 2.06-2.06.94zm10 10l.94 2.06.94-2.06 2.06-.94-2.06-.94-.94-2.06-.94 2.06-2.06.94z\"/><path d=\"M17.41 7.96l-1.37-1.37c-.4-.4-.92-.59-1.43-.59-.52 0-1.04.2-1.43.59L10.3 9.45l-7.72 7.72c-.78.78-.78 2.05 0 2.83L4 21.41c.39.39.9.59 1.41.59.51 0 1.02-.2 1.41-.59l7.78-7.78 2.81-2.81c.8-.78.8-2.07 0-2.86zM5.41 20L4 18.59l7.72-7.72 1.47 1.35L5.41 20z\"/>\n",
              "  </svg>\n",
              "      </button>\n",
              "      \n",
              "  <style>\n",
              "    .colab-df-container {\n",
              "      display:flex;\n",
              "      flex-wrap:wrap;\n",
              "      gap: 12px;\n",
              "    }\n",
              "\n",
              "    .colab-df-convert {\n",
              "      background-color: #E8F0FE;\n",
              "      border: none;\n",
              "      border-radius: 50%;\n",
              "      cursor: pointer;\n",
              "      display: none;\n",
              "      fill: #1967D2;\n",
              "      height: 32px;\n",
              "      padding: 0 0 0 0;\n",
              "      width: 32px;\n",
              "    }\n",
              "\n",
              "    .colab-df-convert:hover {\n",
              "      background-color: #E2EBFA;\n",
              "      box-shadow: 0px 1px 2px rgba(60, 64, 67, 0.3), 0px 1px 3px 1px rgba(60, 64, 67, 0.15);\n",
              "      fill: #174EA6;\n",
              "    }\n",
              "\n",
              "    [theme=dark] .colab-df-convert {\n",
              "      background-color: #3B4455;\n",
              "      fill: #D2E3FC;\n",
              "    }\n",
              "\n",
              "    [theme=dark] .colab-df-convert:hover {\n",
              "      background-color: #434B5C;\n",
              "      box-shadow: 0px 1px 3px 1px rgba(0, 0, 0, 0.15);\n",
              "      filter: drop-shadow(0px 1px 2px rgba(0, 0, 0, 0.3));\n",
              "      fill: #FFFFFF;\n",
              "    }\n",
              "  </style>\n",
              "\n",
              "      <script>\n",
              "        const buttonEl =\n",
              "          document.querySelector('#df-1f89bdbc-7162-4c74-965c-304ddcae1608 button.colab-df-convert');\n",
              "        buttonEl.style.display =\n",
              "          google.colab.kernel.accessAllowed ? 'block' : 'none';\n",
              "\n",
              "        async function convertToInteractive(key) {\n",
              "          const element = document.querySelector('#df-1f89bdbc-7162-4c74-965c-304ddcae1608');\n",
              "          const dataTable =\n",
              "            await google.colab.kernel.invokeFunction('convertToInteractive',\n",
              "                                                     [key], {});\n",
              "          if (!dataTable) return;\n",
              "\n",
              "          const docLinkHtml = 'Like what you see? Visit the ' +\n",
              "            '<a target=\"_blank\" href=https://colab.research.google.com/notebooks/data_table.ipynb>data table notebook</a>'\n",
              "            + ' to learn more about interactive tables.';\n",
              "          element.innerHTML = '';\n",
              "          dataTable['output_type'] = 'display_data';\n",
              "          await google.colab.output.renderOutput(dataTable, element);\n",
              "          const docLink = document.createElement('div');\n",
              "          docLink.innerHTML = docLinkHtml;\n",
              "          element.appendChild(docLink);\n",
              "        }\n",
              "      </script>\n",
              "    </div>\n",
              "  </div>\n",
              "  "
            ]
          },
          "metadata": {},
          "execution_count": 18
        }
      ]
    },
    {
      "cell_type": "code",
      "source": [
        "galton_data[galton_data['F']==1].describe()"
      ],
      "metadata": {
        "colab": {
          "base_uri": "https://localhost:8080/",
          "height": 300
        },
        "id": "8BuJYQdlCYuE",
        "outputId": "005d8260-8949-4a51-d46b-586a595c155e"
      },
      "execution_count": 19,
      "outputs": [
        {
          "output_type": "execute_result",
          "data": {
            "text/plain": [
              "           F      M        Kids  Father(cm)  mother(cm)  Height(cm)\n",
              "count  433.0  433.0  433.000000  433.000000  433.000000  433.000000\n",
              "mean     1.0    0.0    6.311778  176.027866  162.990568  162.839811\n",
              "std      0.0    0.0    2.722892    6.710421    5.783625    6.020612\n",
              "min      1.0    0.0    1.000000  157.480000  147.320000  142.240000\n",
              "25%      1.0    0.0    4.000000  172.720000  160.020000  158.750000\n",
              "50%      1.0    0.0    6.000000  175.768000  162.560000  162.560000\n",
              "75%      1.0    0.0    8.000000  180.340000  166.370000  166.370000\n",
              "max      1.0    0.0   15.000000  199.390000  179.070000  179.070000"
            ],
            "text/html": [
              "\n",
              "  <div id=\"df-7af7542c-a7f2-4225-a357-959d067531c3\">\n",
              "    <div class=\"colab-df-container\">\n",
              "      <div>\n",
              "<style scoped>\n",
              "    .dataframe tbody tr th:only-of-type {\n",
              "        vertical-align: middle;\n",
              "    }\n",
              "\n",
              "    .dataframe tbody tr th {\n",
              "        vertical-align: top;\n",
              "    }\n",
              "\n",
              "    .dataframe thead th {\n",
              "        text-align: right;\n",
              "    }\n",
              "</style>\n",
              "<table border=\"1\" class=\"dataframe\">\n",
              "  <thead>\n",
              "    <tr style=\"text-align: right;\">\n",
              "      <th></th>\n",
              "      <th>F</th>\n",
              "      <th>M</th>\n",
              "      <th>Kids</th>\n",
              "      <th>Father(cm)</th>\n",
              "      <th>mother(cm)</th>\n",
              "      <th>Height(cm)</th>\n",
              "    </tr>\n",
              "  </thead>\n",
              "  <tbody>\n",
              "    <tr>\n",
              "      <th>count</th>\n",
              "      <td>433.0</td>\n",
              "      <td>433.0</td>\n",
              "      <td>433.000000</td>\n",
              "      <td>433.000000</td>\n",
              "      <td>433.000000</td>\n",
              "      <td>433.000000</td>\n",
              "    </tr>\n",
              "    <tr>\n",
              "      <th>mean</th>\n",
              "      <td>1.0</td>\n",
              "      <td>0.0</td>\n",
              "      <td>6.311778</td>\n",
              "      <td>176.027866</td>\n",
              "      <td>162.990568</td>\n",
              "      <td>162.839811</td>\n",
              "    </tr>\n",
              "    <tr>\n",
              "      <th>std</th>\n",
              "      <td>0.0</td>\n",
              "      <td>0.0</td>\n",
              "      <td>2.722892</td>\n",
              "      <td>6.710421</td>\n",
              "      <td>5.783625</td>\n",
              "      <td>6.020612</td>\n",
              "    </tr>\n",
              "    <tr>\n",
              "      <th>min</th>\n",
              "      <td>1.0</td>\n",
              "      <td>0.0</td>\n",
              "      <td>1.000000</td>\n",
              "      <td>157.480000</td>\n",
              "      <td>147.320000</td>\n",
              "      <td>142.240000</td>\n",
              "    </tr>\n",
              "    <tr>\n",
              "      <th>25%</th>\n",
              "      <td>1.0</td>\n",
              "      <td>0.0</td>\n",
              "      <td>4.000000</td>\n",
              "      <td>172.720000</td>\n",
              "      <td>160.020000</td>\n",
              "      <td>158.750000</td>\n",
              "    </tr>\n",
              "    <tr>\n",
              "      <th>50%</th>\n",
              "      <td>1.0</td>\n",
              "      <td>0.0</td>\n",
              "      <td>6.000000</td>\n",
              "      <td>175.768000</td>\n",
              "      <td>162.560000</td>\n",
              "      <td>162.560000</td>\n",
              "    </tr>\n",
              "    <tr>\n",
              "      <th>75%</th>\n",
              "      <td>1.0</td>\n",
              "      <td>0.0</td>\n",
              "      <td>8.000000</td>\n",
              "      <td>180.340000</td>\n",
              "      <td>166.370000</td>\n",
              "      <td>166.370000</td>\n",
              "    </tr>\n",
              "    <tr>\n",
              "      <th>max</th>\n",
              "      <td>1.0</td>\n",
              "      <td>0.0</td>\n",
              "      <td>15.000000</td>\n",
              "      <td>199.390000</td>\n",
              "      <td>179.070000</td>\n",
              "      <td>179.070000</td>\n",
              "    </tr>\n",
              "  </tbody>\n",
              "</table>\n",
              "</div>\n",
              "      <button class=\"colab-df-convert\" onclick=\"convertToInteractive('df-7af7542c-a7f2-4225-a357-959d067531c3')\"\n",
              "              title=\"Convert this dataframe to an interactive table.\"\n",
              "              style=\"display:none;\">\n",
              "        \n",
              "  <svg xmlns=\"http://www.w3.org/2000/svg\" height=\"24px\"viewBox=\"0 0 24 24\"\n",
              "       width=\"24px\">\n",
              "    <path d=\"M0 0h24v24H0V0z\" fill=\"none\"/>\n",
              "    <path d=\"M18.56 5.44l.94 2.06.94-2.06 2.06-.94-2.06-.94-.94-2.06-.94 2.06-2.06.94zm-11 1L8.5 8.5l.94-2.06 2.06-.94-2.06-.94L8.5 2.5l-.94 2.06-2.06.94zm10 10l.94 2.06.94-2.06 2.06-.94-2.06-.94-.94-2.06-.94 2.06-2.06.94z\"/><path d=\"M17.41 7.96l-1.37-1.37c-.4-.4-.92-.59-1.43-.59-.52 0-1.04.2-1.43.59L10.3 9.45l-7.72 7.72c-.78.78-.78 2.05 0 2.83L4 21.41c.39.39.9.59 1.41.59.51 0 1.02-.2 1.41-.59l7.78-7.78 2.81-2.81c.8-.78.8-2.07 0-2.86zM5.41 20L4 18.59l7.72-7.72 1.47 1.35L5.41 20z\"/>\n",
              "  </svg>\n",
              "      </button>\n",
              "      \n",
              "  <style>\n",
              "    .colab-df-container {\n",
              "      display:flex;\n",
              "      flex-wrap:wrap;\n",
              "      gap: 12px;\n",
              "    }\n",
              "\n",
              "    .colab-df-convert {\n",
              "      background-color: #E8F0FE;\n",
              "      border: none;\n",
              "      border-radius: 50%;\n",
              "      cursor: pointer;\n",
              "      display: none;\n",
              "      fill: #1967D2;\n",
              "      height: 32px;\n",
              "      padding: 0 0 0 0;\n",
              "      width: 32px;\n",
              "    }\n",
              "\n",
              "    .colab-df-convert:hover {\n",
              "      background-color: #E2EBFA;\n",
              "      box-shadow: 0px 1px 2px rgba(60, 64, 67, 0.3), 0px 1px 3px 1px rgba(60, 64, 67, 0.15);\n",
              "      fill: #174EA6;\n",
              "    }\n",
              "\n",
              "    [theme=dark] .colab-df-convert {\n",
              "      background-color: #3B4455;\n",
              "      fill: #D2E3FC;\n",
              "    }\n",
              "\n",
              "    [theme=dark] .colab-df-convert:hover {\n",
              "      background-color: #434B5C;\n",
              "      box-shadow: 0px 1px 3px 1px rgba(0, 0, 0, 0.15);\n",
              "      filter: drop-shadow(0px 1px 2px rgba(0, 0, 0, 0.3));\n",
              "      fill: #FFFFFF;\n",
              "    }\n",
              "  </style>\n",
              "\n",
              "      <script>\n",
              "        const buttonEl =\n",
              "          document.querySelector('#df-7af7542c-a7f2-4225-a357-959d067531c3 button.colab-df-convert');\n",
              "        buttonEl.style.display =\n",
              "          google.colab.kernel.accessAllowed ? 'block' : 'none';\n",
              "\n",
              "        async function convertToInteractive(key) {\n",
              "          const element = document.querySelector('#df-7af7542c-a7f2-4225-a357-959d067531c3');\n",
              "          const dataTable =\n",
              "            await google.colab.kernel.invokeFunction('convertToInteractive',\n",
              "                                                     [key], {});\n",
              "          if (!dataTable) return;\n",
              "\n",
              "          const docLinkHtml = 'Like what you see? Visit the ' +\n",
              "            '<a target=\"_blank\" href=https://colab.research.google.com/notebooks/data_table.ipynb>data table notebook</a>'\n",
              "            + ' to learn more about interactive tables.';\n",
              "          element.innerHTML = '';\n",
              "          dataTable['output_type'] = 'display_data';\n",
              "          await google.colab.output.renderOutput(dataTable, element);\n",
              "          const docLink = document.createElement('div');\n",
              "          docLink.innerHTML = docLinkHtml;\n",
              "          element.appendChild(docLink);\n",
              "        }\n",
              "      </script>\n",
              "    </div>\n",
              "  </div>\n",
              "  "
            ]
          },
          "metadata": {},
          "execution_count": 19
        }
      ]
    },
    {
      "cell_type": "code",
      "source": [
        "galton_data[galton_data['M']==1].describe()"
      ],
      "metadata": {
        "colab": {
          "base_uri": "https://localhost:8080/",
          "height": 300
        },
        "id": "BjeWLnHdCmS4",
        "outputId": "12c8443b-aa54-480c-b5e7-acd97eaa9d42"
      },
      "execution_count": 20,
      "outputs": [
        {
          "output_type": "execute_result",
          "data": {
            "text/plain": [
              "           F      M        Kids  Father(cm)  mother(cm)  Height(cm)\n",
              "count  465.0  465.0  465.000000  465.000000  465.000000  465.000000\n",
              "mean     0.0    1.0    5.972043  175.687157  162.573110  175.841196\n",
              "std      0.0    0.0    2.641935    5.841820    5.929065    6.684249\n",
              "min      0.0    1.0    1.000000  157.480000  147.320000  152.400000\n",
              "25%      0.0    1.0    4.000000  172.720000  160.020000  171.450000\n",
              "50%      0.0    1.0    6.000000  175.260000  162.560000  175.768000\n",
              "75%      0.0    1.0    8.000000  179.070000  166.370000  180.340000\n",
              "max      0.0    1.0   15.000000  199.390000  179.070000  200.660000"
            ],
            "text/html": [
              "\n",
              "  <div id=\"df-4bfb68d1-d831-487a-8a98-4a90248c50d9\">\n",
              "    <div class=\"colab-df-container\">\n",
              "      <div>\n",
              "<style scoped>\n",
              "    .dataframe tbody tr th:only-of-type {\n",
              "        vertical-align: middle;\n",
              "    }\n",
              "\n",
              "    .dataframe tbody tr th {\n",
              "        vertical-align: top;\n",
              "    }\n",
              "\n",
              "    .dataframe thead th {\n",
              "        text-align: right;\n",
              "    }\n",
              "</style>\n",
              "<table border=\"1\" class=\"dataframe\">\n",
              "  <thead>\n",
              "    <tr style=\"text-align: right;\">\n",
              "      <th></th>\n",
              "      <th>F</th>\n",
              "      <th>M</th>\n",
              "      <th>Kids</th>\n",
              "      <th>Father(cm)</th>\n",
              "      <th>mother(cm)</th>\n",
              "      <th>Height(cm)</th>\n",
              "    </tr>\n",
              "  </thead>\n",
              "  <tbody>\n",
              "    <tr>\n",
              "      <th>count</th>\n",
              "      <td>465.0</td>\n",
              "      <td>465.0</td>\n",
              "      <td>465.000000</td>\n",
              "      <td>465.000000</td>\n",
              "      <td>465.000000</td>\n",
              "      <td>465.000000</td>\n",
              "    </tr>\n",
              "    <tr>\n",
              "      <th>mean</th>\n",
              "      <td>0.0</td>\n",
              "      <td>1.0</td>\n",
              "      <td>5.972043</td>\n",
              "      <td>175.687157</td>\n",
              "      <td>162.573110</td>\n",
              "      <td>175.841196</td>\n",
              "    </tr>\n",
              "    <tr>\n",
              "      <th>std</th>\n",
              "      <td>0.0</td>\n",
              "      <td>0.0</td>\n",
              "      <td>2.641935</td>\n",
              "      <td>5.841820</td>\n",
              "      <td>5.929065</td>\n",
              "      <td>6.684249</td>\n",
              "    </tr>\n",
              "    <tr>\n",
              "      <th>min</th>\n",
              "      <td>0.0</td>\n",
              "      <td>1.0</td>\n",
              "      <td>1.000000</td>\n",
              "      <td>157.480000</td>\n",
              "      <td>147.320000</td>\n",
              "      <td>152.400000</td>\n",
              "    </tr>\n",
              "    <tr>\n",
              "      <th>25%</th>\n",
              "      <td>0.0</td>\n",
              "      <td>1.0</td>\n",
              "      <td>4.000000</td>\n",
              "      <td>172.720000</td>\n",
              "      <td>160.020000</td>\n",
              "      <td>171.450000</td>\n",
              "    </tr>\n",
              "    <tr>\n",
              "      <th>50%</th>\n",
              "      <td>0.0</td>\n",
              "      <td>1.0</td>\n",
              "      <td>6.000000</td>\n",
              "      <td>175.260000</td>\n",
              "      <td>162.560000</td>\n",
              "      <td>175.768000</td>\n",
              "    </tr>\n",
              "    <tr>\n",
              "      <th>75%</th>\n",
              "      <td>0.0</td>\n",
              "      <td>1.0</td>\n",
              "      <td>8.000000</td>\n",
              "      <td>179.070000</td>\n",
              "      <td>166.370000</td>\n",
              "      <td>180.340000</td>\n",
              "    </tr>\n",
              "    <tr>\n",
              "      <th>max</th>\n",
              "      <td>0.0</td>\n",
              "      <td>1.0</td>\n",
              "      <td>15.000000</td>\n",
              "      <td>199.390000</td>\n",
              "      <td>179.070000</td>\n",
              "      <td>200.660000</td>\n",
              "    </tr>\n",
              "  </tbody>\n",
              "</table>\n",
              "</div>\n",
              "      <button class=\"colab-df-convert\" onclick=\"convertToInteractive('df-4bfb68d1-d831-487a-8a98-4a90248c50d9')\"\n",
              "              title=\"Convert this dataframe to an interactive table.\"\n",
              "              style=\"display:none;\">\n",
              "        \n",
              "  <svg xmlns=\"http://www.w3.org/2000/svg\" height=\"24px\"viewBox=\"0 0 24 24\"\n",
              "       width=\"24px\">\n",
              "    <path d=\"M0 0h24v24H0V0z\" fill=\"none\"/>\n",
              "    <path d=\"M18.56 5.44l.94 2.06.94-2.06 2.06-.94-2.06-.94-.94-2.06-.94 2.06-2.06.94zm-11 1L8.5 8.5l.94-2.06 2.06-.94-2.06-.94L8.5 2.5l-.94 2.06-2.06.94zm10 10l.94 2.06.94-2.06 2.06-.94-2.06-.94-.94-2.06-.94 2.06-2.06.94z\"/><path d=\"M17.41 7.96l-1.37-1.37c-.4-.4-.92-.59-1.43-.59-.52 0-1.04.2-1.43.59L10.3 9.45l-7.72 7.72c-.78.78-.78 2.05 0 2.83L4 21.41c.39.39.9.59 1.41.59.51 0 1.02-.2 1.41-.59l7.78-7.78 2.81-2.81c.8-.78.8-2.07 0-2.86zM5.41 20L4 18.59l7.72-7.72 1.47 1.35L5.41 20z\"/>\n",
              "  </svg>\n",
              "      </button>\n",
              "      \n",
              "  <style>\n",
              "    .colab-df-container {\n",
              "      display:flex;\n",
              "      flex-wrap:wrap;\n",
              "      gap: 12px;\n",
              "    }\n",
              "\n",
              "    .colab-df-convert {\n",
              "      background-color: #E8F0FE;\n",
              "      border: none;\n",
              "      border-radius: 50%;\n",
              "      cursor: pointer;\n",
              "      display: none;\n",
              "      fill: #1967D2;\n",
              "      height: 32px;\n",
              "      padding: 0 0 0 0;\n",
              "      width: 32px;\n",
              "    }\n",
              "\n",
              "    .colab-df-convert:hover {\n",
              "      background-color: #E2EBFA;\n",
              "      box-shadow: 0px 1px 2px rgba(60, 64, 67, 0.3), 0px 1px 3px 1px rgba(60, 64, 67, 0.15);\n",
              "      fill: #174EA6;\n",
              "    }\n",
              "\n",
              "    [theme=dark] .colab-df-convert {\n",
              "      background-color: #3B4455;\n",
              "      fill: #D2E3FC;\n",
              "    }\n",
              "\n",
              "    [theme=dark] .colab-df-convert:hover {\n",
              "      background-color: #434B5C;\n",
              "      box-shadow: 0px 1px 3px 1px rgba(0, 0, 0, 0.15);\n",
              "      filter: drop-shadow(0px 1px 2px rgba(0, 0, 0, 0.3));\n",
              "      fill: #FFFFFF;\n",
              "    }\n",
              "  </style>\n",
              "\n",
              "      <script>\n",
              "        const buttonEl =\n",
              "          document.querySelector('#df-4bfb68d1-d831-487a-8a98-4a90248c50d9 button.colab-df-convert');\n",
              "        buttonEl.style.display =\n",
              "          google.colab.kernel.accessAllowed ? 'block' : 'none';\n",
              "\n",
              "        async function convertToInteractive(key) {\n",
              "          const element = document.querySelector('#df-4bfb68d1-d831-487a-8a98-4a90248c50d9');\n",
              "          const dataTable =\n",
              "            await google.colab.kernel.invokeFunction('convertToInteractive',\n",
              "                                                     [key], {});\n",
              "          if (!dataTable) return;\n",
              "\n",
              "          const docLinkHtml = 'Like what you see? Visit the ' +\n",
              "            '<a target=\"_blank\" href=https://colab.research.google.com/notebooks/data_table.ipynb>data table notebook</a>'\n",
              "            + ' to learn more about interactive tables.';\n",
              "          element.innerHTML = '';\n",
              "          dataTable['output_type'] = 'display_data';\n",
              "          await google.colab.output.renderOutput(dataTable, element);\n",
              "          const docLink = document.createElement('div');\n",
              "          docLink.innerHTML = docLinkHtml;\n",
              "          element.appendChild(docLink);\n",
              "        }\n",
              "      </script>\n",
              "    </div>\n",
              "  </div>\n",
              "  "
            ]
          },
          "metadata": {},
          "execution_count": 20
        }
      ]
    },
    {
      "cell_type": "markdown",
      "source": [
        "## Galton data와 Korean data 합친 height_data 생성"
      ],
      "metadata": {
        "id": "gWf-Fi7JGpf5"
      }
    },
    {
      "cell_type": "code",
      "source": [
        "height_data = pd.concat([korean_data, galton_data], ignore_index=True)\n",
        "height_data.info()"
      ],
      "metadata": {
        "colab": {
          "base_uri": "https://localhost:8080/"
        },
        "id": "B1SwippZVF8S",
        "outputId": "7d6b32e6-b4ed-4ece-e2a1-46274d453b71"
      },
      "execution_count": 21,
      "outputs": [
        {
          "output_type": "stream",
          "name": "stdout",
          "text": [
            "<class 'pandas.core.frame.DataFrame'>\n",
            "RangeIndex: 3585 entries, 0 to 3584\n",
            "Data columns (total 6 columns):\n",
            " #   Column      Non-Null Count  Dtype  \n",
            "---  ------      --------------  -----  \n",
            " 0   F           3585 non-null   uint8  \n",
            " 1   M           3585 non-null   uint8  \n",
            " 2   Kids        3585 non-null   int64  \n",
            " 3   Father(cm)  3585 non-null   float64\n",
            " 4   mother(cm)  3585 non-null   float64\n",
            " 5   Height(cm)  3585 non-null   float64\n",
            "dtypes: float64(3), int64(1), uint8(2)\n",
            "memory usage: 119.2 KB\n"
          ]
        }
      ]
    },
    {
      "cell_type": "code",
      "source": [
        "height_data.describe()"
      ],
      "metadata": {
        "colab": {
          "base_uri": "https://localhost:8080/",
          "height": 300
        },
        "id": "cHn48tZNVVbc",
        "outputId": "989ebdc7-0715-42c4-e6d9-c33ad68718ec"
      },
      "execution_count": 22,
      "outputs": [
        {
          "output_type": "execute_result",
          "data": {
            "text/plain": [
              "                 F            M         Kids   Father(cm)   mother(cm)  \\\n",
              "count  3585.000000  3585.000000  3585.000000  3585.000000  3585.000000   \n",
              "mean      0.517713     0.482287     3.107113   174.282037   161.201437   \n",
              "std       0.499756     0.499756     2.292923     6.242741     5.987005   \n",
              "min       0.000000     0.000000     1.000000   157.000000   141.600000   \n",
              "25%       0.000000     0.000000     2.000000   170.000000   157.560000   \n",
              "50%       1.000000     0.000000     2.000000   174.000000   161.100000   \n",
              "75%       1.000000     1.000000     3.000000   178.000000   165.000000   \n",
              "max       1.000000     1.000000    15.000000   199.390000   187.000000   \n",
              "\n",
              "        Height(cm)  \n",
              "count  3585.000000  \n",
              "mean    169.035850  \n",
              "std       9.083836  \n",
              "min     142.240000  \n",
              "25%     162.000000  \n",
              "50%     168.700000  \n",
              "75%     175.960000  \n",
              "max     202.020000  "
            ],
            "text/html": [
              "\n",
              "  <div id=\"df-7d8a65b8-03f9-412b-b9de-2cee775ef1c2\">\n",
              "    <div class=\"colab-df-container\">\n",
              "      <div>\n",
              "<style scoped>\n",
              "    .dataframe tbody tr th:only-of-type {\n",
              "        vertical-align: middle;\n",
              "    }\n",
              "\n",
              "    .dataframe tbody tr th {\n",
              "        vertical-align: top;\n",
              "    }\n",
              "\n",
              "    .dataframe thead th {\n",
              "        text-align: right;\n",
              "    }\n",
              "</style>\n",
              "<table border=\"1\" class=\"dataframe\">\n",
              "  <thead>\n",
              "    <tr style=\"text-align: right;\">\n",
              "      <th></th>\n",
              "      <th>F</th>\n",
              "      <th>M</th>\n",
              "      <th>Kids</th>\n",
              "      <th>Father(cm)</th>\n",
              "      <th>mother(cm)</th>\n",
              "      <th>Height(cm)</th>\n",
              "    </tr>\n",
              "  </thead>\n",
              "  <tbody>\n",
              "    <tr>\n",
              "      <th>count</th>\n",
              "      <td>3585.000000</td>\n",
              "      <td>3585.000000</td>\n",
              "      <td>3585.000000</td>\n",
              "      <td>3585.000000</td>\n",
              "      <td>3585.000000</td>\n",
              "      <td>3585.000000</td>\n",
              "    </tr>\n",
              "    <tr>\n",
              "      <th>mean</th>\n",
              "      <td>0.517713</td>\n",
              "      <td>0.482287</td>\n",
              "      <td>3.107113</td>\n",
              "      <td>174.282037</td>\n",
              "      <td>161.201437</td>\n",
              "      <td>169.035850</td>\n",
              "    </tr>\n",
              "    <tr>\n",
              "      <th>std</th>\n",
              "      <td>0.499756</td>\n",
              "      <td>0.499756</td>\n",
              "      <td>2.292923</td>\n",
              "      <td>6.242741</td>\n",
              "      <td>5.987005</td>\n",
              "      <td>9.083836</td>\n",
              "    </tr>\n",
              "    <tr>\n",
              "      <th>min</th>\n",
              "      <td>0.000000</td>\n",
              "      <td>0.000000</td>\n",
              "      <td>1.000000</td>\n",
              "      <td>157.000000</td>\n",
              "      <td>141.600000</td>\n",
              "      <td>142.240000</td>\n",
              "    </tr>\n",
              "    <tr>\n",
              "      <th>25%</th>\n",
              "      <td>0.000000</td>\n",
              "      <td>0.000000</td>\n",
              "      <td>2.000000</td>\n",
              "      <td>170.000000</td>\n",
              "      <td>157.560000</td>\n",
              "      <td>162.000000</td>\n",
              "    </tr>\n",
              "    <tr>\n",
              "      <th>50%</th>\n",
              "      <td>1.000000</td>\n",
              "      <td>0.000000</td>\n",
              "      <td>2.000000</td>\n",
              "      <td>174.000000</td>\n",
              "      <td>161.100000</td>\n",
              "      <td>168.700000</td>\n",
              "    </tr>\n",
              "    <tr>\n",
              "      <th>75%</th>\n",
              "      <td>1.000000</td>\n",
              "      <td>1.000000</td>\n",
              "      <td>3.000000</td>\n",
              "      <td>178.000000</td>\n",
              "      <td>165.000000</td>\n",
              "      <td>175.960000</td>\n",
              "    </tr>\n",
              "    <tr>\n",
              "      <th>max</th>\n",
              "      <td>1.000000</td>\n",
              "      <td>1.000000</td>\n",
              "      <td>15.000000</td>\n",
              "      <td>199.390000</td>\n",
              "      <td>187.000000</td>\n",
              "      <td>202.020000</td>\n",
              "    </tr>\n",
              "  </tbody>\n",
              "</table>\n",
              "</div>\n",
              "      <button class=\"colab-df-convert\" onclick=\"convertToInteractive('df-7d8a65b8-03f9-412b-b9de-2cee775ef1c2')\"\n",
              "              title=\"Convert this dataframe to an interactive table.\"\n",
              "              style=\"display:none;\">\n",
              "        \n",
              "  <svg xmlns=\"http://www.w3.org/2000/svg\" height=\"24px\"viewBox=\"0 0 24 24\"\n",
              "       width=\"24px\">\n",
              "    <path d=\"M0 0h24v24H0V0z\" fill=\"none\"/>\n",
              "    <path d=\"M18.56 5.44l.94 2.06.94-2.06 2.06-.94-2.06-.94-.94-2.06-.94 2.06-2.06.94zm-11 1L8.5 8.5l.94-2.06 2.06-.94-2.06-.94L8.5 2.5l-.94 2.06-2.06.94zm10 10l.94 2.06.94-2.06 2.06-.94-2.06-.94-.94-2.06-.94 2.06-2.06.94z\"/><path d=\"M17.41 7.96l-1.37-1.37c-.4-.4-.92-.59-1.43-.59-.52 0-1.04.2-1.43.59L10.3 9.45l-7.72 7.72c-.78.78-.78 2.05 0 2.83L4 21.41c.39.39.9.59 1.41.59.51 0 1.02-.2 1.41-.59l7.78-7.78 2.81-2.81c.8-.78.8-2.07 0-2.86zM5.41 20L4 18.59l7.72-7.72 1.47 1.35L5.41 20z\"/>\n",
              "  </svg>\n",
              "      </button>\n",
              "      \n",
              "  <style>\n",
              "    .colab-df-container {\n",
              "      display:flex;\n",
              "      flex-wrap:wrap;\n",
              "      gap: 12px;\n",
              "    }\n",
              "\n",
              "    .colab-df-convert {\n",
              "      background-color: #E8F0FE;\n",
              "      border: none;\n",
              "      border-radius: 50%;\n",
              "      cursor: pointer;\n",
              "      display: none;\n",
              "      fill: #1967D2;\n",
              "      height: 32px;\n",
              "      padding: 0 0 0 0;\n",
              "      width: 32px;\n",
              "    }\n",
              "\n",
              "    .colab-df-convert:hover {\n",
              "      background-color: #E2EBFA;\n",
              "      box-shadow: 0px 1px 2px rgba(60, 64, 67, 0.3), 0px 1px 3px 1px rgba(60, 64, 67, 0.15);\n",
              "      fill: #174EA6;\n",
              "    }\n",
              "\n",
              "    [theme=dark] .colab-df-convert {\n",
              "      background-color: #3B4455;\n",
              "      fill: #D2E3FC;\n",
              "    }\n",
              "\n",
              "    [theme=dark] .colab-df-convert:hover {\n",
              "      background-color: #434B5C;\n",
              "      box-shadow: 0px 1px 3px 1px rgba(0, 0, 0, 0.15);\n",
              "      filter: drop-shadow(0px 1px 2px rgba(0, 0, 0, 0.3));\n",
              "      fill: #FFFFFF;\n",
              "    }\n",
              "  </style>\n",
              "\n",
              "      <script>\n",
              "        const buttonEl =\n",
              "          document.querySelector('#df-7d8a65b8-03f9-412b-b9de-2cee775ef1c2 button.colab-df-convert');\n",
              "        buttonEl.style.display =\n",
              "          google.colab.kernel.accessAllowed ? 'block' : 'none';\n",
              "\n",
              "        async function convertToInteractive(key) {\n",
              "          const element = document.querySelector('#df-7d8a65b8-03f9-412b-b9de-2cee775ef1c2');\n",
              "          const dataTable =\n",
              "            await google.colab.kernel.invokeFunction('convertToInteractive',\n",
              "                                                     [key], {});\n",
              "          if (!dataTable) return;\n",
              "\n",
              "          const docLinkHtml = 'Like what you see? Visit the ' +\n",
              "            '<a target=\"_blank\" href=https://colab.research.google.com/notebooks/data_table.ipynb>data table notebook</a>'\n",
              "            + ' to learn more about interactive tables.';\n",
              "          element.innerHTML = '';\n",
              "          dataTable['output_type'] = 'display_data';\n",
              "          await google.colab.output.renderOutput(dataTable, element);\n",
              "          const docLink = document.createElement('div');\n",
              "          docLink.innerHTML = docLinkHtml;\n",
              "          element.appendChild(docLink);\n",
              "        }\n",
              "      </script>\n",
              "    </div>\n",
              "  </div>\n",
              "  "
            ]
          },
          "metadata": {},
          "execution_count": 22
        }
      ]
    },
    {
      "cell_type": "code",
      "source": [
        "import matplotlib.pyplot as plt\n",
        "import seaborn as sns"
      ],
      "metadata": {
        "id": "ShvXU_9vQ_BS"
      },
      "execution_count": 23,
      "outputs": []
    },
    {
      "cell_type": "code",
      "source": [
        "fig, axes = plt.subplots(1, 3, figsize=(15, 4))\n",
        "\n",
        "ax0 = sns.distplot(galton_data['Height(cm)'], label='Galton' , hist=False, ax=axes[0], color='r')\n",
        "ax0 = sns.distplot(korean_data['Height(cm)'], label='Korean' , hist=False, ax=axes[0], color='b')\n",
        "\n",
        "ax1 = sns.distplot(galton_data[galton_data['F'] == 1]['Height(cm)'], label='Galton_Female' , hist=False, ax=axes[1], color='r')\n",
        "ax1 = sns.distplot(korean_data[korean_data['F'] == 1]['Height(cm)'], label='Korean_Female' , hist=False, ax=axes[1], color='b')\n",
        "\n",
        "ax2 = sns.distplot(galton_data[galton_data['M'] == 1]['Height(cm)'], label='Galton_Male' , hist=False, ax=axes[2], color='r')\n",
        "ax2 = sns.distplot(korean_data[korean_data['M'] == 1]['Height(cm)'], label='Korean_Male' , hist=False, ax=axes[2], color='b')\n",
        "\n",
        "ax0.legend()\n",
        "ax0.set_title('Galton vs Korean')\n",
        "\n",
        "ax1.legend()\n",
        "ax1.set_title('Galton vs Korean - Female')\n",
        "\n",
        "ax2.legend()\n",
        "ax2.set_title('Galton vs Korean - Male')"
      ],
      "metadata": {
        "colab": {
          "base_uri": "https://localhost:8080/",
          "height": 547
        },
        "id": "xsU8vfxNbyFN",
        "outputId": "14def500-c2c0-42e4-b029-538a360f51e8"
      },
      "execution_count": 24,
      "outputs": [
        {
          "output_type": "stream",
          "name": "stderr",
          "text": [
            "/usr/local/lib/python3.7/dist-packages/seaborn/distributions.py:2619: FutureWarning: `distplot` is a deprecated function and will be removed in a future version. Please adapt your code to use either `displot` (a figure-level function with similar flexibility) or `kdeplot` (an axes-level function for kernel density plots).\n",
            "  warnings.warn(msg, FutureWarning)\n",
            "/usr/local/lib/python3.7/dist-packages/seaborn/distributions.py:2619: FutureWarning: `distplot` is a deprecated function and will be removed in a future version. Please adapt your code to use either `displot` (a figure-level function with similar flexibility) or `kdeplot` (an axes-level function for kernel density plots).\n",
            "  warnings.warn(msg, FutureWarning)\n",
            "/usr/local/lib/python3.7/dist-packages/seaborn/distributions.py:2619: FutureWarning: `distplot` is a deprecated function and will be removed in a future version. Please adapt your code to use either `displot` (a figure-level function with similar flexibility) or `kdeplot` (an axes-level function for kernel density plots).\n",
            "  warnings.warn(msg, FutureWarning)\n",
            "/usr/local/lib/python3.7/dist-packages/seaborn/distributions.py:2619: FutureWarning: `distplot` is a deprecated function and will be removed in a future version. Please adapt your code to use either `displot` (a figure-level function with similar flexibility) or `kdeplot` (an axes-level function for kernel density plots).\n",
            "  warnings.warn(msg, FutureWarning)\n",
            "/usr/local/lib/python3.7/dist-packages/seaborn/distributions.py:2619: FutureWarning: `distplot` is a deprecated function and will be removed in a future version. Please adapt your code to use either `displot` (a figure-level function with similar flexibility) or `kdeplot` (an axes-level function for kernel density plots).\n",
            "  warnings.warn(msg, FutureWarning)\n",
            "/usr/local/lib/python3.7/dist-packages/seaborn/distributions.py:2619: FutureWarning: `distplot` is a deprecated function and will be removed in a future version. Please adapt your code to use either `displot` (a figure-level function with similar flexibility) or `kdeplot` (an axes-level function for kernel density plots).\n",
            "  warnings.warn(msg, FutureWarning)\n"
          ]
        },
        {
          "output_type": "execute_result",
          "data": {
            "text/plain": [
              "Text(0.5, 1.0, 'Galton vs Korean - Male')"
            ]
          },
          "metadata": {},
          "execution_count": 24
        },
        {
          "output_type": "display_data",
          "data": {
            "text/plain": [
              "<Figure size 1080x288 with 3 Axes>"
            ],
            "image/png": "[encoded data removed]"
          },
          "metadata": {
            "needs_background": "light"
          }
        }
      ]
    },
    {
      "cell_type": "markdown",
      "source": [
        "### 전체 height data를 대상으로 한 pairplot"
      ],
      "metadata": {
        "id": "Z9yM0v2f89wx"
      }
    },
    {
      "cell_type": "code",
      "source": [
        "sns.pairplot(\n",
        "    height_data,\n",
        "    x_vars=[\"Father(cm)\", \"mother(cm)\", \"Height(cm)\"],\n",
        "    y_vars=[\"Father(cm)\", \"mother(cm)\", \"Height(cm)\"],\n",
        "    hue=\"M\"\n",
        ")"
      ],
      "metadata": {
        "colab": {
          "base_uri": "https://localhost:8080/",
          "height": 568
        },
        "id": "aXba1ZDj4d_W",
        "outputId": "32112a9b-9914-440a-8f7a-f0a0ae3dea6f"
      },
      "execution_count": 25,
      "outputs": [
        {
          "output_type": "execute_result",
          "data": {
            "text/plain": [
              "<seaborn.axisgrid.PairGrid at 0x7f547c7c7590>"
            ]
          },
          "metadata": {},
          "execution_count": 25
        },
        {
          "output_type": "display_data",
          "data": {
            "text/plain": [
              "<Figure size 582.375x540 with 12 Axes>"
            ],
            "image/png": "[encoded data removed]"
          },
          "metadata": {
            "needs_background": "light"
          }
        }
      ]
    },
    {
      "cell_type": "markdown",
      "source": [
        "### 자녀 키에 따른 부모 키. 파랑 - Father, 주황 - Mother\n",
        "\n"
      ],
      "metadata": {
        "id": "2ZAvpCBNHUye"
      }
    },
    {
      "cell_type": "code",
      "source": [
        "plt.figure(figsize=(5, 5))\n",
        "sns.regplot(x='Height(cm)', y='Father(cm)', data=height_data, line_kws={'color': 'blue'})\n",
        "sns.regplot(x='Height(cm)', y='mother(cm)', data=height_data, line_kws={'color': 'red'})\n",
        "plt.xlabel(\"Children Height\")\n",
        "plt.ylabel(\"Parents Height\")"
      ],
      "metadata": {
        "colab": {
          "base_uri": "https://localhost:8080/",
          "height": 352
        },
        "id": "e_2Ydg-Y9VAG",
        "outputId": "2d4b9114-9cca-4d96-e715-53ce323cc745"
      },
      "execution_count": 26,
      "outputs": [
        {
          "output_type": "execute_result",
          "data": {
            "text/plain": [
              "Text(0, 0.5, 'Parents Height')"
            ]
          },
          "metadata": {},
          "execution_count": 26
        },
        {
          "output_type": "display_data",
          "data": {
            "text/plain": [
              "<Figure size 360x360 with 1 Axes>"
            ],
            "image/png": "[encoded data removed]"
          },
          "metadata": {
            "needs_background": "light"
          }
        }
      ]
    },
    {
      "cell_type": "markdown",
      "source": [
        "### 부모 키에 따른 자녀 키. 파랑 - Father, 주황 - Mother"
      ],
      "metadata": {
        "id": "RW0uD5kTHf2U"
      }
    },
    {
      "cell_type": "code",
      "source": [
        "plt.figure(figsize=(5, 5))\n",
        "sns.regplot(x='Father(cm)', y='Height(cm)', data=height_data, line_kws={'color': 'blue'})\n",
        "sns.regplot(x='mother(cm)', y='Height(cm)', data=height_data, line_kws={'color': 'red'})\n",
        "plt.xlabel(\"Parents Height\")\n",
        "plt.ylabel(\"Children Height\")"
      ],
      "metadata": {
        "colab": {
          "base_uri": "https://localhost:8080/",
          "height": 352
        },
        "id": "hZ7N_g4ZELT5",
        "outputId": "f1c11128-ad94-4f08-ff6b-c12160d5a6f6"
      },
      "execution_count": 27,
      "outputs": [
        {
          "output_type": "execute_result",
          "data": {
            "text/plain": [
              "Text(0, 0.5, 'Children Height')"
            ]
          },
          "metadata": {},
          "execution_count": 27
        },
        {
          "output_type": "display_data",
          "data": {
            "text/plain": [
              "<Figure size 360x360 with 1 Axes>"
            ],
            "image/png": "[encoded data removed]"
          },
          "metadata": {
            "needs_background": "light"
          }
        }
      ]
    },
    {
      "cell_type": "markdown",
      "source": [
        "### 아빠키에 따른 자녀 키"
      ],
      "metadata": {
        "id": "AZFhksyGHmTc"
      }
    },
    {
      "cell_type": "code",
      "source": [
        "plt.figure(figsize=(5, 5))\n",
        "sns.regplot(x='Father(cm)', y='Height(cm)', data=height_data)\n",
        "plt.xlabel(\"Father Height\")\n",
        "plt.ylabel(\"Children Height\")"
      ],
      "metadata": {
        "colab": {
          "base_uri": "https://localhost:8080/",
          "height": 352
        },
        "id": "AQISrzMAF7tL",
        "outputId": "5237c186-eb52-4ce3-cf62-f14f9abea59e"
      },
      "execution_count": 28,
      "outputs": [
        {
          "output_type": "execute_result",
          "data": {
            "text/plain": [
              "Text(0, 0.5, 'Children Height')"
            ]
          },
          "metadata": {},
          "execution_count": 28
        },
        {
          "output_type": "display_data",
          "data": {
            "text/plain": [
              "<Figure size 360x360 with 1 Axes>"
            ],
            "image/png": "[encoded data removed]"
          },
          "metadata": {
            "needs_background": "light"
          }
        }
      ]
    },
    {
      "cell_type": "markdown",
      "source": [
        "### 엄마키에 따른 자녀 키"
      ],
      "metadata": {
        "id": "SSLAiemDHp3p"
      }
    },
    {
      "cell_type": "code",
      "source": [
        "plt.figure(figsize=(5, 5))\n",
        "sns.regplot(x='mother(cm)', y='Height(cm)', data=height_data)\n",
        "plt.xlabel(\"Mother Height\")\n",
        "plt.ylabel(\"Children Height\")"
      ],
      "metadata": {
        "colab": {
          "base_uri": "https://localhost:8080/",
          "height": 352
        },
        "id": "Ek1SDKrxGBLR",
        "outputId": "4bc56f01-7d1e-43d8-8640-9e53baf00d0b"
      },
      "execution_count": 29,
      "outputs": [
        {
          "output_type": "execute_result",
          "data": {
            "text/plain": [
              "Text(0, 0.5, 'Children Height')"
            ]
          },
          "metadata": {},
          "execution_count": 29
        },
        {
          "output_type": "display_data",
          "data": {
            "text/plain": [
              "<Figure size 360x360 with 1 Axes>"
            ],
            "image/png": "[encoded data removed]"
          },
          "metadata": {
            "needs_background": "light"
          }
        }
      ]
    },
    {
      "cell_type": "code",
      "source": [
        "corr = height_data.corr()\n",
        "corr['Height(cm)']\n",
        "sns.heatmap(corr, cmap=sns.diverging_palette(230, 20, as_cmap=True), annot=True)"
      ],
      "metadata": {
        "id": "ZgriZBOp7REK",
        "colab": {
          "base_uri": "https://localhost:8080/",
          "height": 336
        },
        "outputId": "42b1592a-35a5-4b63-ac4d-e0d5d455731e"
      },
      "execution_count": 30,
      "outputs": [
        {
          "output_type": "execute_result",
          "data": {
            "text/plain": [
              "<matplotlib.axes._subplots.AxesSubplot at 0x7f547756f450>"
            ]
          },
          "metadata": {},
          "execution_count": 30
        },
        {
          "output_type": "display_data",
          "data": {
            "text/plain": [
              "<Figure size 432x288 with 2 Axes>"
            ],
            "image/png": "[encoded data removed]"
          },
          "metadata": {
            "needs_background": "light"
          }
        }
      ]
    },
    {
      "cell_type": "code",
      "source": [
        "dauter_height = height_data[height_data['F'] == 1]\n",
        "dauter_height"
      ],
      "metadata": {
        "colab": {
          "base_uri": "https://localhost:8080/",
          "height": 424
        },
        "id": "Y-MzOVklP1U_",
        "outputId": "5e069468-97c2-482f-e3af-d91037f9dd0e"
      },
      "execution_count": 31,
      "outputs": [
        {
          "output_type": "execute_result",
          "data": {
            "text/plain": [
              "      F  M  Kids  Father(cm)  mother(cm)  Height(cm)\n",
              "5     1  0     3      172.00      163.00      173.00\n",
              "6     1  0     3      172.00      163.00      168.50\n",
              "11    1  0     2      168.00      158.00      153.60\n",
              "12    1  0     2      168.00      158.00      152.00\n",
              "14    1  0     2      168.00      155.00      161.00\n",
              "...  .. ..   ...         ...         ...         ...\n",
              "3574  1  0     3      157.48      167.64      154.94\n",
              "3576  1  0     2      158.75      160.02      144.78\n",
              "3582  1  0     8      173.99      165.10      162.56\n",
              "3583  1  0     8      173.99      165.10      161.29\n",
              "3584  1  0     8      173.99      165.10      160.02\n",
              "\n",
              "[1856 rows x 6 columns]"
            ],
            "text/html": [
              "\n",
              "  <div id=\"df-3c95f050-2c8e-436d-b5ec-d65efd2c49b5\">\n",
              "    <div class=\"colab-df-container\">\n",
              "      <div>\n",
              "<style scoped>\n",
              "    .dataframe tbody tr th:only-of-type {\n",
              "        vertical-align: middle;\n",
              "    }\n",
              "\n",
              "    .dataframe tbody tr th {\n",
              "        vertical-align: top;\n",
              "    }\n",
              "\n",
              "    .dataframe thead th {\n",
              "        text-align: right;\n",
              "    }\n",
              "</style>\n",
              "<table border=\"1\" class=\"dataframe\">\n",
              "  <thead>\n",
              "    <tr style=\"text-align: right;\">\n",
              "      <th></th>\n",
              "      <th>F</th>\n",
              "      <th>M</th>\n",
              "      <th>Kids</th>\n",
              "      <th>Father(cm)</th>\n",
              "      <th>mother(cm)</th>\n",
              "      <th>Height(cm)</th>\n",
              "    </tr>\n",
              "  </thead>\n",
              "  <tbody>\n",
              "    <tr>\n",
              "      <th>5</th>\n",
              "      <td>1</td>\n",
              "      <td>0</td>\n",
              "      <td>3</td>\n",
              "      <td>172.00</td>\n",
              "      <td>163.00</td>\n",
              "      <td>173.00</td>\n",
              "    </tr>\n",
              "    <tr>\n",
              "      <th>6</th>\n",
              "      <td>1</td>\n",
              "      <td>0</td>\n",
              "      <td>3</td>\n",
              "      <td>172.00</td>\n",
              "      <td>163.00</td>\n",
              "      <td>168.50</td>\n",
              "    </tr>\n",
              "    <tr>\n",
              "      <th>11</th>\n",
              "      <td>1</td>\n",
              "      <td>0</td>\n",
              "      <td>2</td>\n",
              "      <td>168.00</td>\n",
              "      <td>158.00</td>\n",
              "      <td>153.60</td>\n",
              "    </tr>\n",
              "    <tr>\n",
              "      <th>12</th>\n",
              "      <td>1</td>\n",
              "      <td>0</td>\n",
              "      <td>2</td>\n",
              "      <td>168.00</td>\n",
              "      <td>158.00</td>\n",
              "      <td>152.00</td>\n",
              "    </tr>\n",
              "    <tr>\n",
              "      <th>14</th>\n",
              "      <td>1</td>\n",
              "      <td>0</td>\n",
              "      <td>2</td>\n",
              "      <td>168.00</td>\n",
              "      <td>155.00</td>\n",
              "      <td>161.00</td>\n",
              "    </tr>\n",
              "    <tr>\n",
              "      <th>...</th>\n",
              "      <td>...</td>\n",
              "      <td>...</td>\n",
              "      <td>...</td>\n",
              "      <td>...</td>\n",
              "      <td>...</td>\n",
              "      <td>...</td>\n",
              "    </tr>\n",
              "    <tr>\n",
              "      <th>3574</th>\n",
              "      <td>1</td>\n",
              "      <td>0</td>\n",
              "      <td>3</td>\n",
              "      <td>157.48</td>\n",
              "      <td>167.64</td>\n",
              "      <td>154.94</td>\n",
              "    </tr>\n",
              "    <tr>\n",
              "      <th>3576</th>\n",
              "      <td>1</td>\n",
              "      <td>0</td>\n",
              "      <td>2</td>\n",
              "      <td>158.75</td>\n",
              "      <td>160.02</td>\n",
              "      <td>144.78</td>\n",
              "    </tr>\n",
              "    <tr>\n",
              "      <th>3582</th>\n",
              "      <td>1</td>\n",
              "      <td>0</td>\n",
              "      <td>8</td>\n",
              "      <td>173.99</td>\n",
              "      <td>165.10</td>\n",
              "      <td>162.56</td>\n",
              "    </tr>\n",
              "    <tr>\n",
              "      <th>3583</th>\n",
              "      <td>1</td>\n",
              "      <td>0</td>\n",
              "      <td>8</td>\n",
              "      <td>173.99</td>\n",
              "      <td>165.10</td>\n",
              "      <td>161.29</td>\n",
              "    </tr>\n",
              "    <tr>\n",
              "      <th>3584</th>\n",
              "      <td>1</td>\n",
              "      <td>0</td>\n",
              "      <td>8</td>\n",
              "      <td>173.99</td>\n",
              "      <td>165.10</td>\n",
              "      <td>160.02</td>\n",
              "    </tr>\n",
              "  </tbody>\n",
              "</table>\n",
              "<p>1856 rows × 6 columns</p>\n",
              "</div>\n",
              "      <button class=\"colab-df-convert\" onclick=\"convertToInteractive('df-3c95f050-2c8e-436d-b5ec-d65efd2c49b5')\"\n",
              "              title=\"Convert this dataframe to an interactive table.\"\n",
              "              style=\"display:none;\">\n",
              "        \n",
              "  <svg xmlns=\"http://www.w3.org/2000/svg\" height=\"24px\"viewBox=\"0 0 24 24\"\n",
              "       width=\"24px\">\n",
              "    <path d=\"M0 0h24v24H0V0z\" fill=\"none\"/>\n",
              "    <path d=\"M18.56 5.44l.94 2.06.94-2.06 2.06-.94-2.06-.94-.94-2.06-.94 2.06-2.06.94zm-11 1L8.5 8.5l.94-2.06 2.06-.94-2.06-.94L8.5 2.5l-.94 2.06-2.06.94zm10 10l.94 2.06.94-2.06 2.06-.94-2.06-.94-.94-2.06-.94 2.06-2.06.94z\"/><path d=\"M17.41 7.96l-1.37-1.37c-.4-.4-.92-.59-1.43-.59-.52 0-1.04.2-1.43.59L10.3 9.45l-7.72 7.72c-.78.78-.78 2.05 0 2.83L4 21.41c.39.39.9.59 1.41.59.51 0 1.02-.2 1.41-.59l7.78-7.78 2.81-2.81c.8-.78.8-2.07 0-2.86zM5.41 20L4 18.59l7.72-7.72 1.47 1.35L5.41 20z\"/>\n",
              "  </svg>\n",
              "      </button>\n",
              "      \n",
              "  <style>\n",
              "    .colab-df-container {\n",
              "      display:flex;\n",
              "      flex-wrap:wrap;\n",
              "      gap: 12px;\n",
              "    }\n",
              "\n",
              "    .colab-df-convert {\n",
              "      background-color: #E8F0FE;\n",
              "      border: none;\n",
              "      border-radius: 50%;\n",
              "      cursor: pointer;\n",
              "      display: none;\n",
              "      fill: #1967D2;\n",
              "      height: 32px;\n",
              "      padding: 0 0 0 0;\n",
              "      width: 32px;\n",
              "    }\n",
              "\n",
              "    .colab-df-convert:hover {\n",
              "      background-color: #E2EBFA;\n",
              "      box-shadow: 0px 1px 2px rgba(60, 64, 67, 0.3), 0px 1px 3px 1px rgba(60, 64, 67, 0.15);\n",
              "      fill: #174EA6;\n",
              "    }\n",
              "\n",
              "    [theme=dark] .colab-df-convert {\n",
              "      background-color: #3B4455;\n",
              "      fill: #D2E3FC;\n",
              "    }\n",
              "\n",
              "    [theme=dark] .colab-df-convert:hover {\n",
              "      background-color: #434B5C;\n",
              "      box-shadow: 0px 1px 3px 1px rgba(0, 0, 0, 0.15);\n",
              "      filter: drop-shadow(0px 1px 2px rgba(0, 0, 0, 0.3));\n",
              "      fill: #FFFFFF;\n",
              "    }\n",
              "  </style>\n",
              "\n",
              "      <script>\n",
              "        const buttonEl =\n",
              "          document.querySelector('#df-3c95f050-2c8e-436d-b5ec-d65efd2c49b5 button.colab-df-convert');\n",
              "        buttonEl.style.display =\n",
              "          google.colab.kernel.accessAllowed ? 'block' : 'none';\n",
              "\n",
              "        async function convertToInteractive(key) {\n",
              "          const element = document.querySelector('#df-3c95f050-2c8e-436d-b5ec-d65efd2c49b5');\n",
              "          const dataTable =\n",
              "            await google.colab.kernel.invokeFunction('convertToInteractive',\n",
              "                                                     [key], {});\n",
              "          if (!dataTable) return;\n",
              "\n",
              "          const docLinkHtml = 'Like what you see? Visit the ' +\n",
              "            '<a target=\"_blank\" href=https://colab.research.google.com/notebooks/data_table.ipynb>data table notebook</a>'\n",
              "            + ' to learn more about interactive tables.';\n",
              "          element.innerHTML = '';\n",
              "          dataTable['output_type'] = 'display_data';\n",
              "          await google.colab.output.renderOutput(dataTable, element);\n",
              "          const docLink = document.createElement('div');\n",
              "          docLink.innerHTML = docLinkHtml;\n",
              "          element.appendChild(docLink);\n",
              "        }\n",
              "      </script>\n",
              "    </div>\n",
              "  </div>\n",
              "  "
            ]
          },
          "metadata": {},
          "execution_count": 31
        }
      ]
    },
    {
      "cell_type": "code",
      "source": [
        "# 엄마와 딸\n",
        "plt.figure(figsize=(5, 5))\n",
        "sns.regplot(x='mother(cm)', y='Height(cm)', data=height_data[height_data['F'] == 1])\n",
        "plt.xlabel(\"Mother Height\")\n",
        "plt.ylabel(\"Dauter Height\")"
      ],
      "metadata": {
        "colab": {
          "base_uri": "https://localhost:8080/",
          "height": 352
        },
        "id": "CTSL2MRsPodp",
        "outputId": "8450ed2d-4afe-434f-b128-f17c1bd07146"
      },
      "execution_count": 32,
      "outputs": [
        {
          "output_type": "execute_result",
          "data": {
            "text/plain": [
              "Text(0, 0.5, 'Dauter Height')"
            ]
          },
          "metadata": {},
          "execution_count": 32
        },
        {
          "output_type": "display_data",
          "data": {
            "text/plain": [
              "<Figure size 360x360 with 1 Axes>"
            ],
            "image/png": "[encoded data removed]"
          },
          "metadata": {
            "needs_background": "light"
          }
        }
      ]
    },
    {
      "cell_type": "code",
      "source": [
        "# 엄마와 아들\n",
        "plt.figure(figsize=(5, 5))\n",
        "sns.regplot(x='mother(cm)', y='Height(cm)', data=height_data[height_data['M'] == 1])\n",
        "plt.xlabel(\"Mother Height\")\n",
        "plt.ylabel(\"Son Height\")"
      ],
      "metadata": {
        "colab": {
          "base_uri": "https://localhost:8080/",
          "height": 352
        },
        "id": "gtCcj8QeStBh",
        "outputId": "a24c8ef6-da4f-44a2-ea60-fb854583aa97"
      },
      "execution_count": 33,
      "outputs": [
        {
          "output_type": "execute_result",
          "data": {
            "text/plain": [
              "Text(0, 0.5, 'Son Height')"
            ]
          },
          "metadata": {},
          "execution_count": 33
        },
        {
          "output_type": "display_data",
          "data": {
            "text/plain": [
              "<Figure size 360x360 with 1 Axes>"
            ],
            "image/png": "[encoded data removed]"
          },
          "metadata": {
            "needs_background": "light"
          }
        }
      ]
    },
    {
      "cell_type": "code",
      "source": [
        "# 아버지와 딸\n",
        "plt.figure(figsize=(5, 5))\n",
        "sns.regplot(x='Father(cm)', y='Height(cm)', data=height_data[height_data['F'] == 1])\n",
        "plt.xlabel(\"Father Height\")\n",
        "plt.ylabel(\"Dauter Height\")"
      ],
      "metadata": {
        "colab": {
          "base_uri": "https://localhost:8080/",
          "height": 352
        },
        "id": "W8v8nRT3SovX",
        "outputId": "1ebcd84f-f76f-4b79-af8c-094fb7770059"
      },
      "execution_count": 34,
      "outputs": [
        {
          "output_type": "execute_result",
          "data": {
            "text/plain": [
              "Text(0, 0.5, 'Dauter Height')"
            ]
          },
          "metadata": {},
          "execution_count": 34
        },
        {
          "output_type": "display_data",
          "data": {
            "text/plain": [
              "<Figure size 360x360 with 1 Axes>"
            ],
            "image/png": "[encoded data removed]"
          },
          "metadata": {
            "needs_background": "light"
          }
        }
      ]
    },
    {
      "cell_type": "code",
      "source": [
        "# 아버지와 아들\n",
        "plt.figure(figsize=(5, 5))\n",
        "sns.regplot(x='Father(cm)', y='Height(cm)', data=height_data[height_data['M'] == 1])\n",
        "plt.xlabel(\"Father Height\")\n",
        "plt.ylabel(\"Son Height\")"
      ],
      "metadata": {
        "colab": {
          "base_uri": "https://localhost:8080/",
          "height": 352
        },
        "id": "25bViLg1T3Wg",
        "outputId": "3148b305-317c-40b4-ccba-5227c4d7ea36"
      },
      "execution_count": 35,
      "outputs": [
        {
          "output_type": "execute_result",
          "data": {
            "text/plain": [
              "Text(0, 0.5, 'Son Height')"
            ]
          },
          "metadata": {},
          "execution_count": 35
        },
        {
          "output_type": "display_data",
          "data": {
            "text/plain": [
              "<Figure size 360x360 with 1 Axes>"
            ],
            "image/png": "[encoded data removed]"
          },
          "metadata": {
            "needs_background": "light"
          }
        }
      ]
    },
    {
      "cell_type": "markdown",
      "source": [
        "##남녀 분리"
      ],
      "metadata": {
        "id": "ODSIpNEnOZG2"
      }
    },
    {
      "cell_type": "code",
      "source": [
        "male_height_data = height_data[height_data['M']==1]\n",
        "male_height_data = male_height_data.drop(['F', 'M'], axis=1)"
      ],
      "metadata": {
        "id": "0NYD7u7TOckB"
      },
      "execution_count": 36,
      "outputs": []
    },
    {
      "cell_type": "code",
      "source": [
        "male_height_data.info()"
      ],
      "metadata": {
        "colab": {
          "base_uri": "https://localhost:8080/"
        },
        "id": "l7caq-DGOiO8",
        "outputId": "7ca6ecaa-b092-4bf3-fb39-8a64c7b264a2"
      },
      "execution_count": 37,
      "outputs": [
        {
          "output_type": "stream",
          "name": "stdout",
          "text": [
            "<class 'pandas.core.frame.DataFrame'>\n",
            "Int64Index: 1729 entries, 0 to 3581\n",
            "Data columns (total 4 columns):\n",
            " #   Column      Non-Null Count  Dtype  \n",
            "---  ------      --------------  -----  \n",
            " 0   Kids        1729 non-null   int64  \n",
            " 1   Father(cm)  1729 non-null   float64\n",
            " 2   mother(cm)  1729 non-null   float64\n",
            " 3   Height(cm)  1729 non-null   float64\n",
            "dtypes: float64(3), int64(1)\n",
            "memory usage: 67.5 KB\n"
          ]
        }
      ]
    },
    {
      "cell_type": "code",
      "source": [
        "female_height_data = height_data[height_data['F']==1]\n",
        "female_height_data = female_height_data.drop(['F', 'M'], axis=1)"
      ],
      "metadata": {
        "id": "lZ-FDDpcOiFV"
      },
      "execution_count": 38,
      "outputs": []
    },
    {
      "cell_type": "code",
      "source": [
        "female_height_data.info()"
      ],
      "metadata": {
        "colab": {
          "base_uri": "https://localhost:8080/"
        },
        "id": "pq9Q6vo9OiBO",
        "outputId": "74b7ce98-6b92-4e70-b48e-d725335a6936"
      },
      "execution_count": 39,
      "outputs": [
        {
          "output_type": "stream",
          "name": "stdout",
          "text": [
            "<class 'pandas.core.frame.DataFrame'>\n",
            "Int64Index: 1856 entries, 5 to 3584\n",
            "Data columns (total 4 columns):\n",
            " #   Column      Non-Null Count  Dtype  \n",
            "---  ------      --------------  -----  \n",
            " 0   Kids        1856 non-null   int64  \n",
            " 1   Father(cm)  1856 non-null   float64\n",
            " 2   mother(cm)  1856 non-null   float64\n",
            " 3   Height(cm)  1856 non-null   float64\n",
            "dtypes: float64(3), int64(1)\n",
            "memory usage: 72.5 KB\n"
          ]
        }
      ]
    },
    {
      "cell_type": "markdown",
      "source": [
        "## Data preparation"
      ],
      "metadata": {
        "id": "bJkS3VneUtNv"
      }
    },
    {
      "cell_type": "markdown",
      "source": [
        "남성 키, 여성 키 별로 따로 데이터 분리"
      ],
      "metadata": {
        "id": "DNyEsyesI-L5"
      }
    },
    {
      "cell_type": "code",
      "source": [
        "X_male = pd.DataFrame(male_height_data.iloc[:,:3])\n",
        "y_male = pd.DataFrame(male_height_data['Height(cm)'])\n",
        "\n",
        "X_female = pd.DataFrame(female_height_data.iloc[:,:3])\n",
        "y_female = pd.DataFrame(female_height_data['Height(cm)'])"
      ],
      "metadata": {
        "id": "jLeu7UtrJAjQ"
      },
      "execution_count": 40,
      "outputs": []
    },
    {
      "cell_type": "code",
      "source": [
        "from sklearn.model_selection import train_test_split\n",
        "X_male_train, X_male_test, y_male_train, y_male_test = train_test_split(X_male, y_male, test_size=0.2, random_state=0)\n",
        "X_female_train, X_female_test, y_female_train, y_female_test = train_test_split(X_female, y_female, test_size=0.2, random_state=0)"
      ],
      "metadata": {
        "id": "za-fLJsSOyuC"
      },
      "execution_count": 41,
      "outputs": []
    },
    {
      "cell_type": "markdown",
      "source": [
        "독립변수 종속변수 분리"
      ],
      "metadata": {
        "id": "-599umwUU5uS"
      }
    },
    {
      "cell_type": "code",
      "source": [
        "X = pd.DataFrame(height_data.iloc[:,:5])\n",
        "y = pd.DataFrame(height_data['Height(cm)'])"
      ],
      "metadata": {
        "id": "3PKPMsiiUsYR"
      },
      "execution_count": 42,
      "outputs": []
    },
    {
      "cell_type": "markdown",
      "source": [
        "Train data와 Test data 분리"
      ],
      "metadata": {
        "id": "6ovy4IzaVank"
      }
    },
    {
      "cell_type": "code",
      "source": [
        "from sklearn.model_selection import train_test_split\n",
        "X_train, X_test, y_train, y_test = train_test_split(X, y, test_size=0.2, random_state=0)"
      ],
      "metadata": {
        "id": "qhjgly6nVZl7"
      },
      "execution_count": 43,
      "outputs": []
    },
    {
      "cell_type": "markdown",
      "source": [
        "## Multiple Linear Regression"
      ],
      "metadata": {
        "id": "qgtGE5ZrUj-U"
      }
    },
    {
      "cell_type": "code",
      "source": [
        "from sklearn.linear_model import LinearRegression\n",
        "\n",
        "mlr = LinearRegression()\n",
        "mlr.fit(X_train, y_train)\n",
        "\n",
        "y_predict = mlr.predict(X_test)"
      ],
      "metadata": {
        "id": "UzNVxqfnUjaD"
      },
      "execution_count": 44,
      "outputs": []
    },
    {
      "cell_type": "code",
      "source": [
        "from sklearn.metrics import r2_score\n",
        "from sklearn.metrics import mean_squared_error\n",
        "\n",
        "# 결정계수\n",
        "r2 = r2_score(y_test, y_predict)\n",
        "# 평균제곱오차\n",
        "mse = mean_squared_error(y_test, y_predict)\n",
        "# 평균제곱오차 제곱근\n",
        "rmse = np.sqrt((mean_squared_error(y_test, y_predict)))\n",
        "print(\"R2 : {0: .4f}, MSE : {1: .4f}, RMSE : {2: .4f}\".format(r2, mse, rmse))"
      ],
      "metadata": {
        "colab": {
          "base_uri": "https://localhost:8080/"
        },
        "id": "QF-0qssrWxcJ",
        "outputId": "7db42a50-9061-4489-e805-382589db8b82"
      },
      "execution_count": 45,
      "outputs": [
        {
          "output_type": "stream",
          "name": "stdout",
          "text": [
            "R2 :  0.6787, MSE :  27.2915, RMSE :  5.2241\n"
          ]
        }
      ]
    },
    {
      "cell_type": "code",
      "source": [
        "import matplotlib.pyplot as plt\n",
        "plt.figure(figsize=(5, 5))\n",
        "plt.scatter(y_test, y_predict)\n",
        "plt.xlabel(\"Actual Height\")\n",
        "plt.ylabel(\"Predicted Height\")\n",
        "plt.xlim([145,195])\n",
        "plt.ylim([145,195])\n",
        "plt.title(\"MULTIPLE LINEAR REGRESSION\")\n",
        "plt.show()"
      ],
      "metadata": {
        "colab": {
          "base_uri": "https://localhost:8080/",
          "height": 350
        },
        "id": "MAOuz9V1W6GC",
        "outputId": "ff743551-205a-4361-99ed-f90b9cfdde01"
      },
      "execution_count": 46,
      "outputs": [
        {
          "output_type": "display_data",
          "data": {
            "text/plain": [
              "<Figure size 360x360 with 1 Axes>"
            ],
            "image/png": "[encoded data removed]"
          },
          "metadata": {
            "needs_background": "light"
          }
        }
      ]
    },
    {
      "cell_type": "code",
      "source": [
        "mlr = LinearRegression()\n",
        "mlr.fit(X_male_train, y_male_train)\n",
        "\n",
        "y_predict = mlr.predict(X_male_test)"
      ],
      "metadata": {
        "id": "f6C_l8xkPEbp"
      },
      "execution_count": 55,
      "outputs": []
    },
    {
      "cell_type": "code",
      "source": [
        "# 결정계수\n",
        "r2 = r2_score(y_male_test, y_predict)\n",
        "# 평균제곱오차\n",
        "mse = mean_squared_error(y_male_test, y_predict)\n",
        "# 평균제곱오차 제곱근\n",
        "rmse = np.sqrt((mean_squared_error(y_male_test, y_predict)))\n",
        "print(\"R2 : {0: .4f}, MSE : {1: .4f}, RMSE : {2: .4f}\".format(r2, mse, rmse))"
      ],
      "metadata": {
        "colab": {
          "base_uri": "https://localhost:8080/"
        },
        "id": "sgn6oPF8PEO3",
        "outputId": "098e7cf8-3197-4073-d3bf-b3d56453b111"
      },
      "execution_count": 56,
      "outputs": [
        {
          "output_type": "stream",
          "name": "stdout",
          "text": [
            "R2 :  0.2726, MSE :  31.1648, RMSE :  5.5825\n"
          ]
        }
      ]
    },
    {
      "cell_type": "code",
      "source": [
        "import matplotlib.pyplot as plt\n",
        "plt.figure(figsize=(5, 5))\n",
        "plt.scatter(y_male_test, y_predict)\n",
        "plt.xlabel(\"Actual Height\")\n",
        "plt.ylabel(\"Predicted Height\")\n",
        "plt.xlim([145,195])\n",
        "plt.ylim([145,195])\n",
        "plt.title(\"MULTIPLE LINEAR REGRESSION\")\n",
        "plt.show()"
      ],
      "metadata": {
        "colab": {
          "base_uri": "https://localhost:8080/",
          "height": 350
        },
        "id": "zDJ1rczmEUj1",
        "outputId": "148d6352-8133-442d-efef-dc1629f90673"
      },
      "execution_count": 57,
      "outputs": [
        {
          "output_type": "display_data",
          "data": {
            "text/plain": [
              "<Figure size 360x360 with 1 Axes>"
            ],
            "image/png": "[encoded data removed]"
          },
          "metadata": {
            "needs_background": "light"
          }
        }
      ]
    },
    {
      "cell_type": "code",
      "source": [
        "mlr = LinearRegression()\n",
        "mlr.fit(X_female_train, y_female_train)\n",
        "\n",
        "y_predict = mlr.predict(X_female_test)"
      ],
      "metadata": {
        "id": "GC69eJIoEa9k"
      },
      "execution_count": 58,
      "outputs": []
    },
    {
      "cell_type": "code",
      "source": [
        "# 결정계수\n",
        "r2 = r2_score(y_female_test, y_predict)\n",
        "# 평균제곱오차\n",
        "mse = mean_squared_error(y_female_test, y_predict)\n",
        "# 평균제곱오차 제곱근\n",
        "rmse = np.sqrt((mean_squared_error(y_female_test, y_predict)))\n",
        "print(\"R2 : {0: .4f}, MSE : {1: .4f}, RMSE : {2: .4f}\".format(r2, mse, rmse))"
      ],
      "metadata": {
        "colab": {
          "base_uri": "https://localhost:8080/"
        },
        "id": "cEVEW_OKEeXD",
        "outputId": "35601ea4-70d1-4d3d-8fbd-146ac3d9ad8e"
      },
      "execution_count": 59,
      "outputs": [
        {
          "output_type": "stream",
          "name": "stdout",
          "text": [
            "R2 :  0.3729, MSE :  23.3551, RMSE :  4.8327\n"
          ]
        }
      ]
    },
    {
      "cell_type": "code",
      "source": [
        "import matplotlib.pyplot as plt\n",
        "plt.figure(figsize=(5, 5))\n",
        "plt.scatter(y_female_test, y_predict)\n",
        "plt.xlabel(\"Actual Height\")\n",
        "plt.ylabel(\"Predicted Height\")\n",
        "plt.xlim([145,195])\n",
        "plt.ylim([145,195])\n",
        "plt.title(\"MULTIPLE LINEAR REGRESSION\")\n",
        "plt.show()"
      ],
      "metadata": {
        "colab": {
          "base_uri": "https://localhost:8080/",
          "height": 350
        },
        "id": "GgZZnySFEh6a",
        "outputId": "c5ec4fcc-2bad-4285-d3d6-04dfbbae152c"
      },
      "execution_count": 60,
      "outputs": [
        {
          "output_type": "display_data",
          "data": {
            "text/plain": [
              "<Figure size 360x360 with 1 Axes>"
            ],
            "image/png": "[encoded data removed]"
          },
          "metadata": {
            "needs_background": "light"
          }
        }
      ]
    },
    {
      "cell_type": "markdown",
      "source": [
        "## Baysian Regression"
      ],
      "metadata": {
        "id": "M-SBUm6smFJd"
      }
    },
    {
      "cell_type": "code",
      "source": [
        "from sklearn.linear_model import BayesianRidge\n",
        "\n",
        "bayesian = BayesianRidge()\n",
        "bayesian.fit(X_train, y_train) \n",
        "\n",
        "y_predict_ = bayesian.predict(X_test)"
      ],
      "metadata": {
        "colab": {
          "base_uri": "https://localhost:8080/"
        },
        "id": "iaMs2ICiZxAt",
        "outputId": "6f32ab59-9214-43aa-97f2-529836f07b28"
      },
      "execution_count": 49,
      "outputs": [
        {
          "output_type": "stream",
          "name": "stderr",
          "text": [
            "/usr/local/lib/python3.7/dist-packages/sklearn/utils/validation.py:993: DataConversionWarning: A column-vector y was passed when a 1d array was expected. Please change the shape of y to (n_samples, ), for example using ravel().\n",
            "  y = column_or_1d(y, warn=True)\n"
          ]
        }
      ]
    },
    {
      "cell_type": "code",
      "source": [
        "# 결정계수\n",
        "r2 = r2_score(y_test, y_predict)\n",
        "# 평균제곱오차\n",
        "mse = mean_squared_error(y_test, y_predict)\n",
        "# 평균제곱오차 제곱근\n",
        "rmse = np.sqrt((mean_squared_error(y_test, y_predict)))\n",
        "print(\"R2 : {0: .4f}, MSE : {1: .4f}, RMSE : {2: .4f}\".format(r2, mse, rmse))"
      ],
      "metadata": {
        "colab": {
          "base_uri": "https://localhost:8080/",
          "height": 390
        },
        "id": "iz8NuYIhmaZw",
        "outputId": "38d7ea82-df7d-40d3-99f4-559d5d6fe90d"
      },
      "execution_count": 50,
      "outputs": [
        {
          "output_type": "error",
          "ename": "ValueError",
          "evalue": "ignored",
          "traceback": [
            "\u001b[0;31m---------------------------------------------------------------------------\u001b[0m",
            "\u001b[0;31mValueError\u001b[0m                                Traceback (most recent call last)",
            "\u001b[0;32m<ipython-input-50-9a02ee60794c>\u001b[0m in \u001b[0;36m<module>\u001b[0;34m()\u001b[0m\n\u001b[1;32m      1\u001b[0m \u001b[0;31m# 결정계수\u001b[0m\u001b[0;34m\u001b[0m\u001b[0;34m\u001b[0m\u001b[0;34m\u001b[0m\u001b[0m\n\u001b[0;32m----> 2\u001b[0;31m \u001b[0mr2\u001b[0m \u001b[0;34m=\u001b[0m \u001b[0mr2_score\u001b[0m\u001b[0;34m(\u001b[0m\u001b[0my_test\u001b[0m\u001b[0;34m,\u001b[0m \u001b[0my_predict\u001b[0m\u001b[0;34m)\u001b[0m\u001b[0;34m\u001b[0m\u001b[0;34m\u001b[0m\u001b[0m\n\u001b[0m\u001b[1;32m      3\u001b[0m \u001b[0;31m# 평균제곱오차\u001b[0m\u001b[0;34m\u001b[0m\u001b[0;34m\u001b[0m\u001b[0;34m\u001b[0m\u001b[0m\n\u001b[1;32m      4\u001b[0m \u001b[0mmse\u001b[0m \u001b[0;34m=\u001b[0m \u001b[0mmean_squared_error\u001b[0m\u001b[0;34m(\u001b[0m\u001b[0my_test\u001b[0m\u001b[0;34m,\u001b[0m \u001b[0my_predict\u001b[0m\u001b[0;34m)\u001b[0m\u001b[0;34m\u001b[0m\u001b[0;34m\u001b[0m\u001b[0m\n\u001b[1;32m      5\u001b[0m \u001b[0;31m# 평균제곱오차 제곱근\u001b[0m\u001b[0;34m\u001b[0m\u001b[0;34m\u001b[0m\u001b[0;34m\u001b[0m\u001b[0m\n",
            "\u001b[0;32m/usr/local/lib/python3.7/dist-packages/sklearn/metrics/_regression.py\u001b[0m in \u001b[0;36mr2_score\u001b[0;34m(y_true, y_pred, sample_weight, multioutput)\u001b[0m\n\u001b[1;32m    788\u001b[0m     \"\"\"\n\u001b[1;32m    789\u001b[0m     y_type, y_true, y_pred, multioutput = _check_reg_targets(\n\u001b[0;32m--> 790\u001b[0;31m         \u001b[0my_true\u001b[0m\u001b[0;34m,\u001b[0m \u001b[0my_pred\u001b[0m\u001b[0;34m,\u001b[0m \u001b[0mmultioutput\u001b[0m\u001b[0;34m\u001b[0m\u001b[0;34m\u001b[0m\u001b[0m\n\u001b[0m\u001b[1;32m    791\u001b[0m     )\n\u001b[1;32m    792\u001b[0m     \u001b[0mcheck_consistent_length\u001b[0m\u001b[0;34m(\u001b[0m\u001b[0my_true\u001b[0m\u001b[0;34m,\u001b[0m \u001b[0my_pred\u001b[0m\u001b[0;34m,\u001b[0m \u001b[0msample_weight\u001b[0m\u001b[0;34m)\u001b[0m\u001b[0;34m\u001b[0m\u001b[0;34m\u001b[0m\u001b[0m\n",
            "\u001b[0;32m/usr/local/lib/python3.7/dist-packages/sklearn/metrics/_regression.py\u001b[0m in \u001b[0;36m_check_reg_targets\u001b[0;34m(y_true, y_pred, multioutput, dtype)\u001b[0m\n\u001b[1;32m     92\u001b[0m         \u001b[0mthe\u001b[0m \u001b[0mdtype\u001b[0m \u001b[0margument\u001b[0m \u001b[0mpassed\u001b[0m \u001b[0mto\u001b[0m \u001b[0mcheck_array\u001b[0m\u001b[0;34m.\u001b[0m\u001b[0;34m\u001b[0m\u001b[0;34m\u001b[0m\u001b[0m\n\u001b[1;32m     93\u001b[0m     \"\"\"\n\u001b[0;32m---> 94\u001b[0;31m     \u001b[0mcheck_consistent_length\u001b[0m\u001b[0;34m(\u001b[0m\u001b[0my_true\u001b[0m\u001b[0;34m,\u001b[0m \u001b[0my_pred\u001b[0m\u001b[0;34m)\u001b[0m\u001b[0;34m\u001b[0m\u001b[0;34m\u001b[0m\u001b[0m\n\u001b[0m\u001b[1;32m     95\u001b[0m     \u001b[0my_true\u001b[0m \u001b[0;34m=\u001b[0m \u001b[0mcheck_array\u001b[0m\u001b[0;34m(\u001b[0m\u001b[0my_true\u001b[0m\u001b[0;34m,\u001b[0m \u001b[0mensure_2d\u001b[0m\u001b[0;34m=\u001b[0m\u001b[0;32mFalse\u001b[0m\u001b[0;34m,\u001b[0m \u001b[0mdtype\u001b[0m\u001b[0;34m=\u001b[0m\u001b[0mdtype\u001b[0m\u001b[0;34m)\u001b[0m\u001b[0;34m\u001b[0m\u001b[0;34m\u001b[0m\u001b[0m\n\u001b[1;32m     96\u001b[0m     \u001b[0my_pred\u001b[0m \u001b[0;34m=\u001b[0m \u001b[0mcheck_array\u001b[0m\u001b[0;34m(\u001b[0m\u001b[0my_pred\u001b[0m\u001b[0;34m,\u001b[0m \u001b[0mensure_2d\u001b[0m\u001b[0;34m=\u001b[0m\u001b[0;32mFalse\u001b[0m\u001b[0;34m,\u001b[0m \u001b[0mdtype\u001b[0m\u001b[0;34m=\u001b[0m\u001b[0mdtype\u001b[0m\u001b[0;34m)\u001b[0m\u001b[0;34m\u001b[0m\u001b[0;34m\u001b[0m\u001b[0m\n",
            "\u001b[0;32m/usr/local/lib/python3.7/dist-packages/sklearn/utils/validation.py\u001b[0m in \u001b[0;36mcheck_consistent_length\u001b[0;34m(*arrays)\u001b[0m\n\u001b[1;32m    332\u001b[0m         raise ValueError(\n\u001b[1;32m    333\u001b[0m             \u001b[0;34m\"Found input variables with inconsistent numbers of samples: %r\"\u001b[0m\u001b[0;34m\u001b[0m\u001b[0;34m\u001b[0m\u001b[0m\n\u001b[0;32m--> 334\u001b[0;31m             \u001b[0;34m%\u001b[0m \u001b[0;34m[\u001b[0m\u001b[0mint\u001b[0m\u001b[0;34m(\u001b[0m\u001b[0ml\u001b[0m\u001b[0;34m)\u001b[0m \u001b[0;32mfor\u001b[0m \u001b[0ml\u001b[0m \u001b[0;32min\u001b[0m \u001b[0mlengths\u001b[0m\u001b[0;34m]\u001b[0m\u001b[0;34m\u001b[0m\u001b[0;34m\u001b[0m\u001b[0m\n\u001b[0m\u001b[1;32m    335\u001b[0m         )\n\u001b[1;32m    336\u001b[0m \u001b[0;34m\u001b[0m\u001b[0m\n",
            "\u001b[0;31mValueError\u001b[0m: Found input variables with inconsistent numbers of samples: [717, 346]"
          ]
        }
      ]
    },
    {
      "cell_type": "code",
      "source": [
        "import matplotlib.pyplot as plt\n",
        "plt.figure(figsize=(5, 5))\n",
        "plt.scatter(y_test, y_predict)\n",
        "plt.xlabel(\"Actual Height\")\n",
        "plt.ylabel(\"Predicted Height\")\n",
        "plt.xlim([145,195])\n",
        "plt.ylim([145,195])\n",
        "plt.title(\"BAYESIAN REGRESSION\")\n",
        "plt.show()"
      ],
      "metadata": {
        "id": "qB8_qT55nFoL"
      },
      "execution_count": null,
      "outputs": []
    },
    {
      "cell_type": "markdown",
      "source": [
        "## SVR"
      ],
      "metadata": {
        "id": "AWf6bWvDpBbM"
      }
    },
    {
      "cell_type": "code",
      "source": [
        "from sklearn.preprocessing import StandardScaler\n",
        "\n",
        "# 표준정규분포로 정규화\n",
        "sc_X = StandardScaler()\n",
        "sc_y = StandardScaler()\n",
        "sc_Xt = StandardScaler()\n",
        "X_train_sc = sc_X.fit_transform(X_train)\n",
        "y_train_sc = sc_y.fit_transform(y_train)\n",
        "X_test_sc = sc_Xt.fit_transform(X_test)"
      ],
      "metadata": {
        "id": "JOgceVcdnLKw"
      },
      "execution_count": null,
      "outputs": []
    },
    {
      "cell_type": "code",
      "source": [
        "from sklearn.svm import SVR\n",
        "regressor = SVR(kernel = 'rbf')\n",
        "regressor.fit(X_train_sc, y_train_sc)\n",
        "\n",
        "y_pred = regressor.predict(X_test_sc)\n",
        "# y_pred 결과를 원래 분포로 복원\n",
        "y_pred = sc_y.inverse_transform(y_pred.reshape(-1, 1))"
      ],
      "metadata": {
        "id": "Z_-oDrOLwyGR"
      },
      "execution_count": null,
      "outputs": []
    },
    {
      "cell_type": "code",
      "source": [
        "# 결정계수\n",
        "r2 = r2_score(y_test, y_pred)\n",
        "# 평균제곱오차\n",
        "mse = mean_squared_error(y_test, y_pred)\n",
        "# 평균제곱오차 제곱근\n",
        "rmse = np.sqrt((mean_squared_error(y_test, y_pred)))\n",
        "print(\"R2 : {0: .4f}, MSE : {1: .4f}, RMSE : {2: .4f}\".format(r2, mse, rmse))"
      ],
      "metadata": {
        "id": "GZB0f3vtx8D6"
      },
      "execution_count": null,
      "outputs": []
    },
    {
      "cell_type": "code",
      "source": [
        "plt.figure(figsize=(5, 5))\n",
        "plt.scatter(y_test, y_pred)\n",
        "plt.xlabel(\"Actual Height\")\n",
        "plt.ylabel(\"Predicted Height\")\n",
        "plt.xlim([145,195])\n",
        "plt.ylim([145,195])\n",
        "plt.title(\"SVR REGRESSION\")\n",
        "plt.show()"
      ],
      "metadata": {
        "id": "uMWlTU1QzEzj"
      },
      "execution_count": null,
      "outputs": []
    },
    {
      "cell_type": "markdown",
      "source": [
        "## MLP with SGD"
      ],
      "metadata": {
        "id": "rhWtDZY52kBF"
      }
    },
    {
      "cell_type": "code",
      "source": [
        "from sklearn.preprocessing import StandardScaler\n",
        "\n",
        "# 표준정규분포로 정규화\n",
        "sc_X = StandardScaler()\n",
        "sc_y = StandardScaler()\n",
        "sc_Xt = StandardScaler()\n",
        "X_train_sc = sc_X.fit_transform(X_train)\n",
        "y_train_sc = sc_y.fit_transform(y_train)\n",
        "X_test_sc = sc_Xt.fit_transform(X_test)"
      ],
      "metadata": {
        "id": "VbGDU_X9DmfD"
      },
      "execution_count": null,
      "outputs": []
    },
    {
      "cell_type": "code",
      "source": [
        "from sklearn.neural_network import MLPRegressor\n",
        "mlp = MLPRegressor(hidden_layer_sizes=(10,10,10), activation='relu', solver='sgd', random_state=0, alpha=0.001, learning_rate_init=0.1, max_iter=200)\n",
        "mlp.fit(X_train_sc, y_train_sc)\n",
        "\n",
        "y_pred = mlp.predict(X_test_sc)\n",
        "# y_pred 결과를 원래 분포로 복원\n",
        "y_pred = sc_y.inverse_transform(y_pred.reshape(-1, 1))"
      ],
      "metadata": {
        "id": "qjsdLNXaDnYQ"
      },
      "execution_count": null,
      "outputs": []
    },
    {
      "cell_type": "code",
      "source": [
        "# 결정계수\n",
        "r2 = r2_score(y_test, y_pred)\n",
        "# 평균제곱오차\n",
        "mse = mean_squared_error(y_test, y_pred)\n",
        "# 평균제곱오차 제곱근\n",
        "rmse = np.sqrt((mean_squared_error(y_test, y_pred)))\n",
        "print(\"R2 : {0: .4f}, MSE : {1: .4f}, RMSE : {2: .4f}\".format(r2, mse, rmse))"
      ],
      "metadata": {
        "id": "ByV_tpHgGQ8z"
      },
      "execution_count": null,
      "outputs": []
    },
    {
      "cell_type": "code",
      "source": [
        "plt.figure(figsize=(5, 5))\n",
        "plt.scatter(y_test, y_pred)\n",
        "plt.xlabel(\"Actual Height\")\n",
        "plt.ylabel(\"Predicted Height\")\n",
        "plt.xlim([145,195])\n",
        "plt.ylim([145,195])\n",
        "plt.title(\"MLP with SGD REGRESSION\")\n",
        "plt.show()"
      ],
      "metadata": {
        "id": "DfnY7-kYGVmt"
      },
      "execution_count": null,
      "outputs": []
    },
    {
      "cell_type": "markdown",
      "source": [
        "## Ridge"
      ],
      "metadata": {
        "id": "kesxHmL5LbV7"
      }
    },
    {
      "cell_type": "code",
      "source": [
        "from sklearn.linear_model import Ridge, RidgeCV"
      ],
      "metadata": {
        "id": "51ajlpNtCS5L"
      },
      "execution_count": null,
      "outputs": []
    },
    {
      "cell_type": "code",
      "source": [
        "alphas = [0.0001, 0.001, 0.01, 0.1, 0.3, 0.5, 0.7, 1, 3, 10, 50, 100]\n",
        "\n",
        "for a in alphas:\n",
        "    model = Ridge(alpha=a).fit(X_train, y_train)\n",
        "    score = model.score(X_train, y_train)\n",
        "    pred_y = model.predict(X_train)\n",
        "    mse = mean_squared_error(y_train, pred_y)\n",
        "    print(\"Alpha:{0:.4f}, R2:{1:.4f}, MSE:{2:.4f}, RMSE:{3:.4f}\".format(a, score, mse, np.sqrt(mse)))\n",
        "\n",
        "ridge_cv = RidgeCV(alphas=alphas, cv=5)\n",
        "model = ridge_cv.fit(X_train, y_train)\n",
        "print(model.alpha_)"
      ],
      "metadata": {
        "id": "TPI06ArMOPYi"
      },
      "execution_count": null,
      "outputs": []
    },
    {
      "cell_type": "code",
      "source": [
        "model_ridge = Ridge(alpha=1.0).fit(X_train, y_train)\n",
        "y_pred = model_ridge.predict(X_test)\n",
        "score_ridge = model_ridge.score(X_test, y_test)\n",
        "mse_ridge = mean_squared_error(y_test, y_pred)\n",
        "print(\"R2 : {0:.4f}, MSE : {1:.4f}, RMSE : {2:.4f}\".format(score_ridge, mse_ridge, np.sqrt(mse_ridge)))"
      ],
      "metadata": {
        "id": "vt4SAEtjOcoS"
      },
      "execution_count": null,
      "outputs": []
    },
    {
      "cell_type": "code",
      "source": [
        "plt.figure(figsize=(5, 5))\n",
        "plt.scatter(y_test, y_pred)\n",
        "plt.xlabel(\"Actual Height\")\n",
        "plt.ylabel(\"Predicted Height\")\n",
        "plt.xlim([145,195])\n",
        "plt.ylim([145,195])\n",
        "plt.title(\"Ridge REGRESSION\")\n",
        "plt.show()"
      ],
      "metadata": {
        "id": "E-DLM7Z8LhGJ"
      },
      "execution_count": null,
      "outputs": []
    },
    {
      "cell_type": "markdown",
      "source": [
        "## Lasso"
      ],
      "metadata": {
        "id": "EldNkV5iLYKb"
      }
    },
    {
      "cell_type": "code",
      "source": [
        "from sklearn.linear_model import Lasso, LassoCV\n",
        "\n",
        "for a in alphas:\n",
        "    model = Lasso(alpha=a).fit(X_train, y_train.to_numpy().ravel())\n",
        "    score = model.score(X_train, y_train)\n",
        "    pred_y = model.predict(X_train)\n",
        "    mse = mean_squared_error(y_train, pred_y)\n",
        "    print(\"Alpha:{0:.4f}, R2:{1:.4f}, MSE:{2:.4f}, RMSE:{3:.4f}\".format(a, score, mse, np.sqrt(mse)))\n",
        "\n",
        "lasso_cv = LassoCV(alphas=alphas, cv=5)\n",
        "model = lasso_cv.fit(X_train, y_train.to_numpy().ravel())\n",
        "print(model.alpha_)"
      ],
      "metadata": {
        "id": "S6vPBm3ULJf4"
      },
      "execution_count": null,
      "outputs": []
    },
    {
      "cell_type": "code",
      "source": [
        "model_lasso = Lasso(alpha=0.01).fit(X_train, y_train)\n",
        "y_pred = model_lasso.predict(X_test)\n",
        "score_lasso = model_lasso.score(X_test, y_test)\n",
        "mse_lasso = mean_squared_error(y_test, y_pred)\n",
        "print(\"R2 : {0:.4f}, MSE : {1:.4f}, RMSE : {2:.4f}\".format(score_lasso, mse_lasso, np.sqrt(mse_lasso)))"
      ],
      "metadata": {
        "id": "zUn7eb4GOxQs"
      },
      "execution_count": null,
      "outputs": []
    },
    {
      "cell_type": "code",
      "source": [
        "plt.figure(figsize=(5, 5))\n",
        "plt.scatter(y_test, y_pred)\n",
        "plt.xlabel(\"Actual Height\")\n",
        "plt.ylabel(\"Predicted Height\")\n",
        "plt.xlim([145,195])\n",
        "plt.ylim([145,195])\n",
        "plt.title(\"Lasso REGRESSION\")\n",
        "plt.show()"
      ],
      "metadata": {
        "id": "MrIaKOosMOLO"
      },
      "execution_count": null,
      "outputs": []
    },
    {
      "cell_type": "markdown",
      "source": [
        "## Elastic"
      ],
      "metadata": {
        "id": "bSfUiFpgMpT9"
      }
    },
    {
      "cell_type": "code",
      "source": [
        "from sklearn.linear_model import ElasticNet, ElasticNetCV\n",
        "\n",
        "for a in alphas:\n",
        "    model = ElasticNet(alpha=a).fit(X_train, y_train.to_numpy().ravel())\n",
        "    score = model.score(X_train, y_train.to_numpy().ravel())\n",
        "    pred_y = model.predict(X_train)\n",
        "    mse = mean_squared_error(y_train.to_numpy().ravel(), pred_y)\n",
        "    print(\"Alpha:{0:.4f}, R2:{1:.4f}, MSE:{2:.4f}, RMSE:{3:.4f}\".format(a, score, mse, np.sqrt(mse)))\n",
        "\n",
        "elastic_cv = ElasticNetCV(alphas=alphas, cv=5)\n",
        "model = elastic_cv.fit(X_train, y_train.to_numpy().ravel())\n",
        "print(model.alpha_)"
      ],
      "metadata": {
        "id": "COjnJhQdMoW0"
      },
      "execution_count": null,
      "outputs": []
    },
    {
      "cell_type": "code",
      "source": [
        "model_elastic = ElasticNet(alpha=0.001).fit(X_train, y_train)\n",
        "y_pred_elastic = model_elastic.predict(X_test)\n",
        "score_elastic = model_elastic.score(X_test, y_test)\n",
        "mse_elastic = mean_squared_error(y_test, y_pred_elastic)\n",
        "print(\"R2 : {0:.4f}, MSE : {1:.4f}, RMSE : {2:.4f}\".format(score_elastic, mse_elastic, np.sqrt(mse_elastic)))"
      ],
      "metadata": {
        "id": "Xjgf8DlBPLWF"
      },
      "execution_count": null,
      "outputs": []
    },
    {
      "cell_type": "code",
      "source": [
        "plt.figure(figsize=(5, 5))\n",
        "plt.scatter(y_test, y_pred_elastic)\n",
        "plt.xlabel(\"Actual Height\")\n",
        "plt.ylabel(\"Predicted Height\")\n",
        "plt.xlim([145,195])\n",
        "plt.ylim([145,195])\n",
        "plt.title(\"ElasticNet REGRESSION\")\n",
        "plt.show()"
      ],
      "metadata": {
        "id": "GNai27wkNEvy"
      },
      "execution_count": null,
      "outputs": []
    },
    {
      "cell_type": "markdown",
      "source": [
        "## AdaBoost"
      ],
      "metadata": {
        "id": "slmnIX4TNzrf"
      }
    },
    {
      "cell_type": "code",
      "source": [
        "from sklearn.model_selection import KFold, cross_val_score, GridSearchCV\n",
        "from sklearn.ensemble import AdaBoostRegressor\n",
        "\n",
        "ada = AdaBoostRegressor(random_state=0)\n",
        "grid_param={'learning_rate' : [0.0001, 0.001, 0.01, 0.1, 1], 'n_estimators':[100, 200, 300, 400]}\n",
        "kfold = KFold(n_splits=5, shuffle=True, random_state=0)"
      ],
      "metadata": {
        "id": "-09zTpH0NzXU"
      },
      "execution_count": null,
      "outputs": []
    },
    {
      "cell_type": "code",
      "source": [
        "grid_search = GridSearchCV(ada, param_grid=grid_param, cv=kfold, scoring='r2', refit=True).fit(X_train, y_train.to_numpy().ravel())\n",
        "y_pred = grid_search.best_estimator_.predict(X_test)"
      ],
      "metadata": {
        "id": "EndVBgXLNiNr"
      },
      "execution_count": null,
      "outputs": []
    },
    {
      "cell_type": "code",
      "source": [
        "score = r2_score(y_test, y_pred)\n",
        "mse= mean_squared_error(y_test, y_pred)\n",
        "print(\"R2 : {0:.4f}, MSE : {1:.4f}, RMSE : {2:.4f}\".format(score, mse, np.sqrt(mse)))"
      ],
      "metadata": {
        "id": "RlDFGp1aQ7tt"
      },
      "execution_count": null,
      "outputs": []
    },
    {
      "cell_type": "code",
      "source": [
        "plt.figure(figsize=(5, 5))\n",
        "plt.scatter(y_test, y_pred)\n",
        "plt.xlabel(\"Actual Height\")\n",
        "plt.ylabel(\"Predicted Height\")\n",
        "plt.xlim([145,195])\n",
        "plt.ylim([145,195])\n",
        "plt.title(\"AdaBoost REGRESSION\")\n",
        "plt.show()"
      ],
      "metadata": {
        "id": "Fe09ZttDS1EX"
      },
      "execution_count": null,
      "outputs": []
    },
    {
      "cell_type": "markdown",
      "source": [
        "## XGBoost"
      ],
      "metadata": {
        "id": "mRLMAA5lUlA7"
      }
    },
    {
      "cell_type": "code",
      "source": [
        "import xgboost\n",
        "\n",
        "xgb = xgboost.XGBRegressor(random_state=0, objective = 'reg:squarederror')\n",
        "xgb.fit(X_train, y_train.to_numpy().ravel())\n",
        "y_pred = xgb.predict(X_test)"
      ],
      "metadata": {
        "id": "H0_qfLTeTHI4"
      },
      "execution_count": null,
      "outputs": []
    },
    {
      "cell_type": "code",
      "source": [
        "score = r2_score(y_test, y_pred)\n",
        "mse= mean_squared_error(y_test, y_pred)\n",
        "print(\"R2 : {0:.4f}, MSE : {1:.4f}, RMSE : {2:.4f}\".format(score, mse, np.sqrt(mse)))"
      ],
      "metadata": {
        "id": "kZ6WA3C0VanT"
      },
      "execution_count": null,
      "outputs": []
    },
    {
      "cell_type": "code",
      "source": [
        "plt.figure(figsize=(5, 5))\n",
        "plt.scatter(y_test, y_pred)\n",
        "plt.xlabel(\"Actual Height\")\n",
        "plt.ylabel(\"Predicted Height\")\n",
        "plt.xlim([145,195])\n",
        "plt.ylim([145,195])\n",
        "plt.title(\"XGBoost REGRESSION\")\n",
        "plt.show()"
      ],
      "metadata": {
        "id": "q8CO9Zl-V9z3"
      },
      "execution_count": null,
      "outputs": []
    },
    {
      "cell_type": "markdown",
      "source": [
        "## LightGBM"
      ],
      "metadata": {
        "id": "YIL70lEQYBU2"
      }
    },
    {
      "cell_type": "code",
      "source": [
        "import lightgbm as lgb\n",
        "\n",
        "lgbmreg = lgb.LGBMRegressor(random_state=0)\n",
        "lgbmreg.fit(X_train, y_train.to_numpy().ravel())\n",
        "y_pred = lgbmreg.predict(X_test)"
      ],
      "metadata": {
        "id": "iW8jUR9gYHIZ"
      },
      "execution_count": null,
      "outputs": []
    },
    {
      "cell_type": "code",
      "source": [
        "score = r2_score(y_test, y_pred)\n",
        "mse= mean_squared_error(y_test, y_pred)\n",
        "print(\"R2 : {0:.4f}, MSE : {1:.4f}, RMSE : {2:.4f}\".format(score, mse, np.sqrt(mse)))"
      ],
      "metadata": {
        "id": "s9_IEwzuYxnf"
      },
      "execution_count": null,
      "outputs": []
    },
    {
      "cell_type": "code",
      "source": [
        "plt.figure(figsize=(5, 5))\n",
        "plt.scatter(y_test, y_pred)\n",
        "plt.xlabel(\"Actual Height\")\n",
        "plt.ylabel(\"Predicted Height\")\n",
        "plt.xlim([145,195])\n",
        "plt.ylim([145,195])\n",
        "plt.title(\"LightGBM REGRESSION\")\n",
        "plt.show()"
      ],
      "metadata": {
        "id": "IG0crQiVY1-T"
      },
      "execution_count": null,
      "outputs": []
    },
    {
      "cell_type": "markdown",
      "source": [
        "## CatBoost"
      ],
      "metadata": {
        "id": "tJVuyLx3WQE3"
      }
    },
    {
      "cell_type": "code",
      "source": [
        "from catboost import CatBoostRegressor, Pool, cv\n",
        "\n",
        "# model = CatBoostRegressor(iterations=1000, learning_rate=1, loss_function='RMSE')\n",
        "model = CatBoostRegressor(iterations=50, loss_function='RMSE')\n",
        "model.fit(X_train, y_train)\n",
        "\n",
        "y_pred = model.predict(X_test)"
      ],
      "metadata": {
        "id": "KnluU_paWFKn"
      },
      "execution_count": null,
      "outputs": []
    },
    {
      "cell_type": "code",
      "source": [
        "score = r2_score(y_test, y_pred)\n",
        "mse= mean_squared_error(y_test, y_pred)\n",
        "print(\"R2 : {0:.4f}, MSE : {1:.4f}, RMSE : {2:.4f}\".format(score, mse, np.sqrt(mse)))"
      ],
      "metadata": {
        "id": "Pyr2yv28Z1xe"
      },
      "execution_count": null,
      "outputs": []
    },
    {
      "cell_type": "code",
      "source": [
        "plt.figure(figsize=(5, 5))\n",
        "plt.scatter(y_test, y_pred)\n",
        "plt.xlabel(\"Actual Height\")\n",
        "plt.ylabel(\"Predicted Height\")\n",
        "plt.xlim([145,195])\n",
        "plt.ylim([145,195])\n",
        "plt.title(\"CatBoost REGRESSION\")\n",
        "plt.show()"
      ],
      "metadata": {
        "id": "HkM_OfoRcWx3"
      },
      "execution_count": null,
      "outputs": []
    },
    {
      "cell_type": "code",
      "source": [
        ""
      ],
      "metadata": {
        "id": "r3tCONpcctEY"
      },
      "execution_count": null,
      "outputs": []
    }
  ]
}